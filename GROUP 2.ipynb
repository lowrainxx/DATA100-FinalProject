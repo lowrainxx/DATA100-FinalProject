{
 "cells": [
  {
   "attachments": {},
   "cell_type": "markdown",
   "metadata": {},
   "source": [
    "# DATA100 GROUP 2 FINAL PROJECT\n",
    "# PHILIPPINE DENGUE CASES 2016-2020\n",
    "<a id='PHILIPPINE DENGUE CASES'></a>\n",
    "Submitted by: Group 2\n",
    "\n",
    "Members:\n",
    "1. Coronado, Calvin\n",
    "2. Fausto, Lorane Bernadeth\n",
    "3. Leonida, Dani\n",
    "4. Li, Julian\n",
    "5. Maronilla, Mary Avelyn\n",
    "6. Ong, Elyssia\n",
    "\n",
    "This notebook is an exploratory data analysis on the [Philippine Dengue Cases Dataset](https://www.kaggle.com/datasets/vincentgupo/dengue-cases-in-the-philippines). The dataset will be explained, cleaned, and explored by the end of this notebook.\n",
    "\n",
    "| **`Table of Contents`** |\n",
    "| --- |\n",
    "| [The Dataset](#the-dataset) |\n",
    "| [Reading the Dataset](#reading-the-dataset) |\n",
    "| [Cleaning the Dataset](#cleaning-the-dataset) |\n",
    "| [Exploratory Data Analysis](#exploratory-data-analysis) |\n",
    "| - [Question 1](#question-1) |\n",
    "| [Conclusion](#conclusion) |"
   ]
  },
  {
   "attachments": {},
   "cell_type": "markdown",
   "metadata": {
    "colab_type": "text",
    "id": "2Y-ws5s-D0bD"
   },
   "source": [
    "## Importing Libraries\n",
    "For this notebook, **numpy**, **pandas**, and **matplotlib** must be imported."
   ]
  },
  {
   "cell_type": "code",
   "execution_count": 2,
   "metadata": {
    "colab": {
     "base_uri": "https://localhost:8080/",
     "height": 35
    },
    "colab_type": "code",
    "id": "A5vlL2jfDNoE",
    "outputId": "7b0fd08a-ac20-4c02-97f0-392001a32f0d"
   },
   "outputs": [
    {
     "name": "stdout",
     "output_type": "stream",
     "text": [
      "%pylab is deprecated, use %matplotlib inline and import the required libraries.\n",
      "Populating the interactive namespace from numpy and matplotlib\n"
     ]
    }
   ],
   "source": [
    "import numpy as np\n",
    "import pandas as pd\n",
    "import matplotlib.pyplot as plt\n",
    "\n",
    "%pylab inline"
   ]
  },
  {
   "attachments": {},
   "cell_type": "markdown",
   "metadata": {},
   "source": [
    "## The Dataset\n",
    "\n",
    "-- [Return to Table of Contents](#DATA100-GROUP-2-FINAL-PROJECT) --\n",
    "\n",
    "`dataset title here` is *describe dataset here. Include where it came from and how it is compiled. Include limitations if there are.*\n",
    "\n",
    "The dataset is provided as a `.csv` file where it can be viewed in Excel and Notepad. \n",
    "\n",
    "This dataset contains 1020 **observations** across 5 **variables**. Each row represents **1 month per year**, while columns represent **dengue cases information**. The following are the variables in the dataset and their descriptions:\n",
    "\n",
    "| Variable Name | Description |\n",
    "| --- | --- |\n",
    "| **`Month`** | Month of the year in text format |\n",
    "| **`Year`** | Ranges from 2016-2020 in numerical format |\n",
    "| **`Region`** | Region in the Philippines |\n",
    "| **`Dengue_Cases`** | Number of Monthly Cases per region (including deaths) |\n",
    "| **`Dengue_Deaths`** | Number of Monthly Deaths per region due to dengue |"
   ]
  },
  {
   "attachments": {},
   "cell_type": "markdown",
   "metadata": {},
   "source": [
    "## Reading the Dataset\n",
    "-- [Return to Table of Contents](#DATA100-GROUP-2-FINAL-PROJECT) --\n",
    "\n",
    "Here we will load the dataset using pandas. This will load the dataset into a pandas `DataFrame`. We use the [`read_csv`](https://pandas.pydata.org/pandas-docs/stable/reference/api/pandas.read_csv.html) function to load the dataset. The path will have to be changed depending on the location of the file in your machine.\n"
   ]
  },
  {
   "cell_type": "code",
   "execution_count": 3,
   "metadata": {},
   "outputs": [],
   "source": [
    "cases_df = pd.read_csv('ph_dengue_cases2016-2020.csv')"
   ]
  },
  {
   "attachments": {},
   "cell_type": "markdown",
   "metadata": {},
   "source": [
    "The dataset is now loaded in the `imdb_df` variable. `imdb_df` is a [`DataFrame`](https://pandas.pydata.org/pandas-docs/stable/reference/api/pandas.DataFrame.html). It is a data structure for storing tabular data, and the main data structure used in pandas.\n",
    "\n",
    "The next cell show the contents of the `DataFrame`."
   ]
  },
  {
   "cell_type": "code",
   "execution_count": 7,
   "metadata": {
    "colab_type": "text",
    "id": "J9k8lCPbHTkb"
   },
   "outputs": [
    {
     "data": {
      "text/html": [
       "<div>\n",
       "<style scoped>\n",
       "    .dataframe tbody tr th:only-of-type {\n",
       "        vertical-align: middle;\n",
       "    }\n",
       "\n",
       "    .dataframe tbody tr th {\n",
       "        vertical-align: top;\n",
       "    }\n",
       "\n",
       "    .dataframe thead th {\n",
       "        text-align: right;\n",
       "    }\n",
       "</style>\n",
       "<table border=\"1\" class=\"dataframe\">\n",
       "  <thead>\n",
       "    <tr style=\"text-align: right;\">\n",
       "      <th></th>\n",
       "      <th>Month</th>\n",
       "      <th>Year</th>\n",
       "      <th>Region</th>\n",
       "      <th>Dengue_Cases</th>\n",
       "      <th>Dengue_Deaths</th>\n",
       "    </tr>\n",
       "  </thead>\n",
       "  <tbody>\n",
       "    <tr>\n",
       "      <th>0</th>\n",
       "      <td>January</td>\n",
       "      <td>2016</td>\n",
       "      <td>Region I</td>\n",
       "      <td>705</td>\n",
       "      <td>1</td>\n",
       "    </tr>\n",
       "    <tr>\n",
       "      <th>1</th>\n",
       "      <td>February</td>\n",
       "      <td>2016</td>\n",
       "      <td>Region I</td>\n",
       "      <td>374</td>\n",
       "      <td>0</td>\n",
       "    </tr>\n",
       "    <tr>\n",
       "      <th>2</th>\n",
       "      <td>March</td>\n",
       "      <td>2016</td>\n",
       "      <td>Region I</td>\n",
       "      <td>276</td>\n",
       "      <td>0</td>\n",
       "    </tr>\n",
       "    <tr>\n",
       "      <th>3</th>\n",
       "      <td>April</td>\n",
       "      <td>2016</td>\n",
       "      <td>Region I</td>\n",
       "      <td>240</td>\n",
       "      <td>2</td>\n",
       "    </tr>\n",
       "    <tr>\n",
       "      <th>4</th>\n",
       "      <td>May</td>\n",
       "      <td>2016</td>\n",
       "      <td>Region I</td>\n",
       "      <td>243</td>\n",
       "      <td>1</td>\n",
       "    </tr>\n",
       "    <tr>\n",
       "      <th>...</th>\n",
       "      <td>...</td>\n",
       "      <td>...</td>\n",
       "      <td>...</td>\n",
       "      <td>...</td>\n",
       "      <td>...</td>\n",
       "    </tr>\n",
       "    <tr>\n",
       "      <th>1015</th>\n",
       "      <td>August</td>\n",
       "      <td>2020</td>\n",
       "      <td>BARMM</td>\n",
       "      <td>91</td>\n",
       "      <td>0</td>\n",
       "    </tr>\n",
       "    <tr>\n",
       "      <th>1016</th>\n",
       "      <td>September</td>\n",
       "      <td>2020</td>\n",
       "      <td>BARMM</td>\n",
       "      <td>16</td>\n",
       "      <td>8</td>\n",
       "    </tr>\n",
       "    <tr>\n",
       "      <th>1017</th>\n",
       "      <td>October</td>\n",
       "      <td>2020</td>\n",
       "      <td>BARMM</td>\n",
       "      <td>13</td>\n",
       "      <td>9</td>\n",
       "    </tr>\n",
       "    <tr>\n",
       "      <th>1018</th>\n",
       "      <td>November</td>\n",
       "      <td>2020</td>\n",
       "      <td>BARMM</td>\n",
       "      <td>15</td>\n",
       "      <td>1</td>\n",
       "    </tr>\n",
       "    <tr>\n",
       "      <th>1019</th>\n",
       "      <td>December</td>\n",
       "      <td>2020</td>\n",
       "      <td>BARMM</td>\n",
       "      <td>23</td>\n",
       "      <td>0</td>\n",
       "    </tr>\n",
       "  </tbody>\n",
       "</table>\n",
       "<p>1020 rows × 5 columns</p>\n",
       "</div>"
      ],
      "text/plain": [
       "          Month  Year    Region  Dengue_Cases  Dengue_Deaths\n",
       "0       January  2016  Region I           705              1\n",
       "1      February  2016  Region I           374              0\n",
       "2         March  2016  Region I           276              0\n",
       "3         April  2016  Region I           240              2\n",
       "4           May  2016  Region I           243              1\n",
       "...         ...   ...       ...           ...            ...\n",
       "1015     August  2020     BARMM            91              0\n",
       "1016  September  2020     BARMM            16              8\n",
       "1017    October  2020     BARMM            13              9\n",
       "1018   November  2020     BARMM            15              1\n",
       "1019   December  2020     BARMM            23              0\n",
       "\n",
       "[1020 rows x 5 columns]"
      ]
     },
     "execution_count": 7,
     "metadata": {},
     "output_type": "execute_result"
    }
   ],
   "source": [
    "cases_df"
   ]
  },
  {
   "attachments": {},
   "cell_type": "markdown",
   "metadata": {},
   "source": [
    "Display the dataset info using the [`info`](https://pandas.pydata.org/docs/reference/api/pandas.DataFrame.info.html) function."
   ]
  },
  {
   "cell_type": "code",
   "execution_count": 9,
   "metadata": {},
   "outputs": [
    {
     "name": "stdout",
     "output_type": "stream",
     "text": [
      "<class 'pandas.core.frame.DataFrame'>\n",
      "RangeIndex: 1020 entries, 0 to 1019\n",
      "Data columns (total 5 columns):\n",
      " #   Column         Non-Null Count  Dtype \n",
      "---  ------         --------------  ----- \n",
      " 0   Month          1020 non-null   object\n",
      " 1   Year           1020 non-null   int64 \n",
      " 2   Region         1020 non-null   object\n",
      " 3   Dengue_Cases   1020 non-null   int64 \n",
      " 4   Dengue_Deaths  1020 non-null   int64 \n",
      "dtypes: int64(3), object(2)\n",
      "memory usage: 40.0+ KB\n"
     ]
    }
   ],
   "source": [
    "cases_df.info()"
   ]
  },
  {
   "attachments": {},
   "cell_type": "markdown",
   "metadata": {},
   "source": [
    "## Cleaning the Dataset\n",
    "\n",
    "-- [Return to Table of Contents](#DATA100-GROUP-2-FINAL-PROJECT) --"
   ]
  },
  {
   "attachments": {},
   "cell_type": "markdown",
   "metadata": {},
   "source": [
    "Before we can begin exploring the data, we must first clean the dataset. This is to prevent inconsistencies that may cause problems or errors during analysis."
   ]
  },
  {
   "cell_type": "markdown",
   "metadata": {},
   "source": [
    "We then check if there are any duplicated data in the dataset. We do this by calling the [duplicated](https://pandas.pydata.org/pandas-docs/stable/reference/api/pandas.DataFrame.duplicated.html) function. The function checks and returns the duplicated values."
   ]
  },
  {
   "cell_type": "code",
   "execution_count": 10,
   "metadata": {},
   "outputs": [
    {
     "name": "stdout",
     "output_type": "stream",
     "text": [
      "Number of duplicates: 0\n",
      "Empty DataFrame\n",
      "Columns: [Month, Year, Region, Dengue_Cases, Dengue_Deaths]\n",
      "Index: []\n"
     ]
    }
   ],
   "source": [
    "duplicated = cases_df[cases_df.duplicated()]\n",
    "dupes = str(duplicated.shape)\n",
    "\n",
    "print(\"Number of duplicates: \"  + dupes[1 : (dupes.find(','))])\n",
    "print(duplicated)"
   ]
  },
  {
   "attachments": {},
   "cell_type": "markdown",
   "metadata": {},
   "source": [
    "As displayed above there are **``0 duplicates``** in the dataset. If there are duplicates These can be simply removed by calling the function the [drop_duplicates](https://pandas.pydata.org/docs/reference/api/pandas.DataFrame.drop_duplicates.html) function."
   ]
  },
  {
   "cell_type": "markdown",
   "metadata": {},
   "source": [
    "Check which columns have **NaN or Null** values and **count** how many null values each column has."
   ]
  },
  {
   "cell_type": "code",
   "execution_count": 255,
   "metadata": {},
   "outputs": [
    {
     "data": {
      "text/plain": [
       "title_year        107\n",
       "director_name     103\n",
       "director_likes    103\n",
       "duration           15\n",
       "plot_keywords     152\n",
       "content_rating    301\n",
       "country             5\n",
       "language           12\n",
       "gross             874\n",
       "budget            487\n",
       "color              19\n",
       "aspect_ratio      327\n",
       "face_number        13\n",
       "critic_reviews     49\n",
       "user_reviews       21\n",
       "actor1              7\n",
       "actor1_likes        7\n",
       "actor2             13\n",
       "actor2_likes       13\n",
       "actor3             23\n",
       "actor3_likes       23\n",
       "dtype: int64"
      ]
     },
     "execution_count": 255,
     "metadata": {},
     "output_type": "execute_result"
    }
   ],
   "source": [
    "nan_variables = imdb_df.columns[imdb_df.isna().any()].to_list()\n",
    "nan_count = imdb_df[nan_variables].isnull().sum()\n",
    "nan_count"
   ]
  },
  {
   "cell_type": "markdown",
   "metadata": {},
   "source": [
    "Here is a graph of the amount of null data in each column for better visualization."
   ]
  },
  {
   "cell_type": "code",
   "execution_count": 256,
   "metadata": {},
   "outputs": [
    {
     "data": {
      "text/plain": [
       "<AxesSubplot:>"
      ]
     },
     "execution_count": 256,
     "metadata": {},
     "output_type": "execute_result"
    },
    {
     "data": {
      "image/png": "[encoded data removed]",
      "text/plain": [
       "<Figure size 500x700 with 1 Axes>"
      ]
     },
     "metadata": {},
     "output_type": "display_data"
    }
   ],
   "source": [
    "nan_count.plot.barh(figsize=(5,7))"
   ]
  },
  {
   "cell_type": "markdown",
   "metadata": {},
   "source": [
    "The dataset should first be described for us to know how to handle the NaN values. Here we used the [describe](https://pandas.pydata.org/docs/reference/api/pandas.DataFrame.describe.html) function to get the various details of each column. "
   ]
  },
  {
   "cell_type": "code",
   "execution_count": 257,
   "metadata": {},
   "outputs": [
    {
     "data": {
      "text/html": [
       "<div>\n",
       "<style scoped>\n",
       "    .dataframe tbody tr th:only-of-type {\n",
       "        vertical-align: middle;\n",
       "    }\n",
       "\n",
       "    .dataframe tbody tr th {\n",
       "        vertical-align: top;\n",
       "    }\n",
       "\n",
       "    .dataframe thead th {\n",
       "        text-align: right;\n",
       "    }\n",
       "</style>\n",
       "<table border=\"1\" class=\"dataframe\">\n",
       "  <thead>\n",
       "    <tr style=\"text-align: right;\">\n",
       "      <th></th>\n",
       "      <th>title_year</th>\n",
       "      <th>movie_likes</th>\n",
       "      <th>director_likes</th>\n",
       "      <th>duration</th>\n",
       "      <th>gross</th>\n",
       "      <th>budget</th>\n",
       "      <th>aspect_ratio</th>\n",
       "      <th>face_number</th>\n",
       "      <th>imdb_score</th>\n",
       "      <th>voted_users</th>\n",
       "      <th>critic_reviews</th>\n",
       "      <th>user_reviews</th>\n",
       "      <th>cast_likes</th>\n",
       "      <th>actor1_likes</th>\n",
       "      <th>actor2_likes</th>\n",
       "      <th>actor3_likes</th>\n",
       "    </tr>\n",
       "  </thead>\n",
       "  <tbody>\n",
       "    <tr>\n",
       "      <th>count</th>\n",
       "      <td>4891.000000</td>\n",
       "      <td>4998.000000</td>\n",
       "      <td>4895.000000</td>\n",
       "      <td>4983.000000</td>\n",
       "      <td>4.124000e+03</td>\n",
       "      <td>4.511000e+03</td>\n",
       "      <td>4671.000000</td>\n",
       "      <td>4985.000000</td>\n",
       "      <td>4998.000000</td>\n",
       "      <td>4.998000e+03</td>\n",
       "      <td>4949.000000</td>\n",
       "      <td>4977.000000</td>\n",
       "      <td>4998.000000</td>\n",
       "      <td>4991.000000</td>\n",
       "      <td>4985.000000</td>\n",
       "      <td>4975.000000</td>\n",
       "    </tr>\n",
       "    <tr>\n",
       "      <th>mean</th>\n",
       "      <td>2002.468820</td>\n",
       "      <td>7487.430172</td>\n",
       "      <td>688.679060</td>\n",
       "      <td>107.213325</td>\n",
       "      <td>4.832565e+07</td>\n",
       "      <td>3.974787e+07</td>\n",
       "      <td>2.221417</td>\n",
       "      <td>1.368907</td>\n",
       "      <td>6.441056</td>\n",
       "      <td>8.347020e+04</td>\n",
       "      <td>139.890079</td>\n",
       "      <td>272.014667</td>\n",
       "      <td>9676.941176</td>\n",
       "      <td>6556.939892</td>\n",
       "      <td>1642.998796</td>\n",
       "      <td>639.900905</td>\n",
       "    </tr>\n",
       "    <tr>\n",
       "      <th>std</th>\n",
       "      <td>12.475235</td>\n",
       "      <td>19290.726563</td>\n",
       "      <td>2821.649616</td>\n",
       "      <td>25.248775</td>\n",
       "      <td>6.796483e+07</td>\n",
       "      <td>2.069689e+08</td>\n",
       "      <td>1.391185</td>\n",
       "      <td>2.014623</td>\n",
       "      <td>1.124107</td>\n",
       "      <td>1.380866e+05</td>\n",
       "      <td>121.477586</td>\n",
       "      <td>377.776210</td>\n",
       "      <td>18165.404578</td>\n",
       "      <td>15061.586700</td>\n",
       "      <td>4030.925303</td>\n",
       "      <td>1643.298282</td>\n",
       "    </tr>\n",
       "    <tr>\n",
       "      <th>min</th>\n",
       "      <td>1916.000000</td>\n",
       "      <td>0.000000</td>\n",
       "      <td>0.000000</td>\n",
       "      <td>7.000000</td>\n",
       "      <td>1.620000e+02</td>\n",
       "      <td>2.180000e+02</td>\n",
       "      <td>1.180000</td>\n",
       "      <td>0.000000</td>\n",
       "      <td>1.600000</td>\n",
       "      <td>5.000000e+00</td>\n",
       "      <td>1.000000</td>\n",
       "      <td>1.000000</td>\n",
       "      <td>0.000000</td>\n",
       "      <td>0.000000</td>\n",
       "      <td>0.000000</td>\n",
       "      <td>0.000000</td>\n",
       "    </tr>\n",
       "    <tr>\n",
       "      <th>25%</th>\n",
       "      <td>1999.000000</td>\n",
       "      <td>0.000000</td>\n",
       "      <td>7.000000</td>\n",
       "      <td>93.000000</td>\n",
       "      <td>5.304835e+06</td>\n",
       "      <td>6.000000e+06</td>\n",
       "      <td>1.850000</td>\n",
       "      <td>0.000000</td>\n",
       "      <td>5.800000</td>\n",
       "      <td>8.560000e+03</td>\n",
       "      <td>50.000000</td>\n",
       "      <td>64.000000</td>\n",
       "      <td>1405.500000</td>\n",
       "      <td>611.500000</td>\n",
       "      <td>280.000000</td>\n",
       "      <td>133.000000</td>\n",
       "    </tr>\n",
       "    <tr>\n",
       "      <th>50%</th>\n",
       "      <td>2005.000000</td>\n",
       "      <td>162.500000</td>\n",
       "      <td>49.000000</td>\n",
       "      <td>103.000000</td>\n",
       "      <td>2.544575e+07</td>\n",
       "      <td>2.000000e+07</td>\n",
       "      <td>2.350000</td>\n",
       "      <td>1.000000</td>\n",
       "      <td>6.600000</td>\n",
       "      <td>3.426050e+04</td>\n",
       "      <td>110.000000</td>\n",
       "      <td>156.000000</td>\n",
       "      <td>3085.500000</td>\n",
       "      <td>984.000000</td>\n",
       "      <td>595.000000</td>\n",
       "      <td>369.000000</td>\n",
       "    </tr>\n",
       "    <tr>\n",
       "      <th>75%</th>\n",
       "      <td>2011.000000</td>\n",
       "      <td>3000.000000</td>\n",
       "      <td>192.000000</td>\n",
       "      <td>118.000000</td>\n",
       "      <td>6.231942e+07</td>\n",
       "      <td>4.500000e+07</td>\n",
       "      <td>2.350000</td>\n",
       "      <td>2.000000</td>\n",
       "      <td>7.200000</td>\n",
       "      <td>9.612075e+04</td>\n",
       "      <td>195.000000</td>\n",
       "      <td>324.000000</td>\n",
       "      <td>13740.500000</td>\n",
       "      <td>11000.000000</td>\n",
       "      <td>917.000000</td>\n",
       "      <td>635.000000</td>\n",
       "    </tr>\n",
       "    <tr>\n",
       "      <th>max</th>\n",
       "      <td>2016.000000</td>\n",
       "      <td>349000.000000</td>\n",
       "      <td>23000.000000</td>\n",
       "      <td>511.000000</td>\n",
       "      <td>7.605058e+08</td>\n",
       "      <td>1.221550e+10</td>\n",
       "      <td>16.000000</td>\n",
       "      <td>43.000000</td>\n",
       "      <td>9.500000</td>\n",
       "      <td>1.689764e+06</td>\n",
       "      <td>813.000000</td>\n",
       "      <td>5060.000000</td>\n",
       "      <td>656730.000000</td>\n",
       "      <td>640000.000000</td>\n",
       "      <td>137000.000000</td>\n",
       "      <td>23000.000000</td>\n",
       "    </tr>\n",
       "  </tbody>\n",
       "</table>\n",
       "</div>"
      ],
      "text/plain": [
       "        title_year    movie_likes  director_likes     duration         gross  \\\n",
       "count  4891.000000    4998.000000     4895.000000  4983.000000  4.124000e+03   \n",
       "mean   2002.468820    7487.430172      688.679060   107.213325  4.832565e+07   \n",
       "std      12.475235   19290.726563     2821.649616    25.248775  6.796483e+07   \n",
       "min    1916.000000       0.000000        0.000000     7.000000  1.620000e+02   \n",
       "25%    1999.000000       0.000000        7.000000    93.000000  5.304835e+06   \n",
       "50%    2005.000000     162.500000       49.000000   103.000000  2.544575e+07   \n",
       "75%    2011.000000    3000.000000      192.000000   118.000000  6.231942e+07   \n",
       "max    2016.000000  349000.000000    23000.000000   511.000000  7.605058e+08   \n",
       "\n",
       "             budget  aspect_ratio  face_number   imdb_score   voted_users  \\\n",
       "count  4.511000e+03   4671.000000  4985.000000  4998.000000  4.998000e+03   \n",
       "mean   3.974787e+07      2.221417     1.368907     6.441056  8.347020e+04   \n",
       "std    2.069689e+08      1.391185     2.014623     1.124107  1.380866e+05   \n",
       "min    2.180000e+02      1.180000     0.000000     1.600000  5.000000e+00   \n",
       "25%    6.000000e+06      1.850000     0.000000     5.800000  8.560000e+03   \n",
       "50%    2.000000e+07      2.350000     1.000000     6.600000  3.426050e+04   \n",
       "75%    4.500000e+07      2.350000     2.000000     7.200000  9.612075e+04   \n",
       "max    1.221550e+10     16.000000    43.000000     9.500000  1.689764e+06   \n",
       "\n",
       "       critic_reviews  user_reviews     cast_likes   actor1_likes  \\\n",
       "count     4949.000000   4977.000000    4998.000000    4991.000000   \n",
       "mean       139.890079    272.014667    9676.941176    6556.939892   \n",
       "std        121.477586    377.776210   18165.404578   15061.586700   \n",
       "min          1.000000      1.000000       0.000000       0.000000   \n",
       "25%         50.000000     64.000000    1405.500000     611.500000   \n",
       "50%        110.000000    156.000000    3085.500000     984.000000   \n",
       "75%        195.000000    324.000000   13740.500000   11000.000000   \n",
       "max        813.000000   5060.000000  656730.000000  640000.000000   \n",
       "\n",
       "        actor2_likes  actor3_likes  \n",
       "count    4985.000000   4975.000000  \n",
       "mean     1642.998796    639.900905  \n",
       "std      4030.925303   1643.298282  \n",
       "min         0.000000      0.000000  \n",
       "25%       280.000000    133.000000  \n",
       "50%       595.000000    369.000000  \n",
       "75%       917.000000    635.000000  \n",
       "max    137000.000000  23000.000000  "
      ]
     },
     "execution_count": 257,
     "metadata": {},
     "output_type": "execute_result"
    }
   ],
   "source": [
    "pd.options.mode.chained_assignment = None\n",
    "imdb_df.describe()"
   ]
  },
  {
   "cell_type": "markdown",
   "metadata": {},
   "source": [
    "Only columns that will be used for this notebook will be cleaned. Here are the columns to be used in the notebook:\n",
    "- `gross`\n",
    "- `budget`\n",
    "- `director_likes`\n",
    "- `actor1_likes`\n",
    "- `actor2_likes`\n",
    "- `actor3_likes`\n",
    "- `movie_likes`\n",
    "- `cast_likes`\n",
    "- `imdb_score`\n",
    "- `content_rating`\n",
    "- `genres`\n",
    "- `aspect_ratio`\n",
    "- `face_number`\n",
    "- `critic_reviews`"
   ]
  },
  {
   "cell_type": "markdown",
   "metadata": {},
   "source": [
    "NaN values are present in the `gross` and `budget` columns. Since we want to observe these variables for the conclusion, we will delete rows with NaN values using the [dropna](https://pandas.pydata.org/docs/reference/api/pandas.DataFrame.dropna.html) function."
   ]
  },
  {
   "cell_type": "code",
   "execution_count": 258,
   "metadata": {},
   "outputs": [
    {
     "name": "stdout",
     "output_type": "stream",
     "text": [
      "<class 'pandas.core.frame.DataFrame'>\n",
      "Int64Index: 3783 entries, 0 to 5042\n",
      "Data columns (total 28 columns):\n",
      " #   Column           Non-Null Count  Dtype  \n",
      "---  ------           --------------  -----  \n",
      " 0   movie_title      3783 non-null   object \n",
      " 1   title_year       3783 non-null   float64\n",
      " 2   movie_imdb_link  3783 non-null   object \n",
      " 3   movie_likes      3783 non-null   int64  \n",
      " 4   director_name    3783 non-null   object \n",
      " 5   director_likes   3783 non-null   float64\n",
      " 6   duration         3783 non-null   float64\n",
      " 7   genres           3783 non-null   object \n",
      " 8   plot_keywords    3764 non-null   object \n",
      " 9   content_rating   3751 non-null   object \n",
      " 10  country          3783 non-null   object \n",
      " 11  language         3781 non-null   object \n",
      " 12  gross            3783 non-null   float64\n",
      " 13  budget           3783 non-null   float64\n",
      " 14  color            3781 non-null   object \n",
      " 15  aspect_ratio     3783 non-null   float64\n",
      " 16  face_number      3777 non-null   float64\n",
      " 17  imdb_score       3783 non-null   float64\n",
      " 18  voted_users      3783 non-null   int64  \n",
      " 19  critic_reviews   3782 non-null   float64\n",
      " 20  user_reviews     3783 non-null   float64\n",
      " 21  cast_likes       3783 non-null   int64  \n",
      " 22  actor1           3782 non-null   object \n",
      " 23  actor1_likes     3782 non-null   float64\n",
      " 24  actor2           3780 non-null   object \n",
      " 25  actor2_likes     3780 non-null   float64\n",
      " 26  actor3           3775 non-null   object \n",
      " 27  actor3_likes     3775 non-null   float64\n",
      "dtypes: float64(13), int64(3), object(12)\n",
      "memory usage: 857.1+ KB\n"
     ]
    }
   ],
   "source": [
    "imdb_df.dropna(axis = 0, subset=['gross'], inplace=True) \n",
    "imdb_df.dropna(axis = 0, subset=['budget'], inplace=True) \n",
    "imdb_df.dropna(axis = 0, subset=['aspect_ratio'], inplace=True) \n",
    "imdb_df.info()"
   ]
  },
  {
   "cell_type": "markdown",
   "metadata": {},
   "source": [
    "Since the missing values on the `director_likes`, `actor1_likes`, `actor2_likes`, `actor3_likes`, and `movie_likes` columns are less than 10% of the total observations, the NaN values will be replaced.\n",
    "\n",
    "The aforementioned columns also have outliers, so the NaN values in these columns will be replaced with their **median**. \n",
    "\n",
    "`aspect_ratio` is more of a flat consistent variable, so its NaN values will be replaced with the **mode** of the column"
   ]
  },
  {
   "cell_type": "code",
   "execution_count": 259,
   "metadata": {},
   "outputs": [
    {
     "name": "stdout",
     "output_type": "stream",
     "text": [
      "<class 'pandas.core.frame.DataFrame'>\n",
      "Int64Index: 3783 entries, 0 to 5042\n",
      "Data columns (total 28 columns):\n",
      " #   Column           Non-Null Count  Dtype  \n",
      "---  ------           --------------  -----  \n",
      " 0   movie_title      3783 non-null   object \n",
      " 1   title_year       3783 non-null   float64\n",
      " 2   movie_imdb_link  3783 non-null   object \n",
      " 3   movie_likes      3783 non-null   int64  \n",
      " 4   director_name    3783 non-null   object \n",
      " 5   director_likes   3783 non-null   float64\n",
      " 6   duration         3783 non-null   float64\n",
      " 7   genres           3783 non-null   object \n",
      " 8   plot_keywords    3783 non-null   object \n",
      " 9   content_rating   3751 non-null   object \n",
      " 10  country          3783 non-null   object \n",
      " 11  language         3783 non-null   object \n",
      " 12  gross            3783 non-null   float64\n",
      " 13  budget           3783 non-null   float64\n",
      " 14  color            3783 non-null   object \n",
      " 15  aspect_ratio     3783 non-null   float64\n",
      " 16  face_number      3783 non-null   float64\n",
      " 17  imdb_score       3783 non-null   float64\n",
      " 18  voted_users      3783 non-null   int64  \n",
      " 19  critic_reviews   3783 non-null   float64\n",
      " 20  user_reviews     3783 non-null   float64\n",
      " 21  cast_likes       3783 non-null   int64  \n",
      " 22  actor1           3782 non-null   object \n",
      " 23  actor1_likes     3783 non-null   float64\n",
      " 24  actor2           3783 non-null   object \n",
      " 25  actor2_likes     3783 non-null   float64\n",
      " 26  actor3           3783 non-null   object \n",
      " 27  actor3_likes     3783 non-null   float64\n",
      "dtypes: float64(13), int64(3), object(12)\n",
      "memory usage: 857.1+ KB\n"
     ]
    }
   ],
   "source": [
    "imdb_df['director_likes'].fillna(imdb_df['director_likes'].median(), inplace=True)\n",
    "imdb_df['actor1_likes'].fillna(imdb_df['actor1_likes'].median(), inplace=True)\n",
    "imdb_df['actor2_likes'].fillna(imdb_df['actor2_likes'].median(), inplace=True)\n",
    "imdb_df['actor3_likes'].fillna(imdb_df['actor3_likes'].median(), inplace=True)\n",
    "imdb_df['movie_likes'].fillna(imdb_df['movie_likes'].median(), inplace=True)\n",
    "#Replace 0 with median\n",
    "imdb_df['director_likes'] = imdb_df['director_likes'].replace([0], imdb_df['director_likes'].median())\n",
    "imdb_df['actor1_likes'] = imdb_df['actor1_likes'].replace([0], imdb_df['actor1_likes'].median())\n",
    "imdb_df['actor2_likes'] = imdb_df['actor2_likes'].replace([0], imdb_df['actor2_likes'].median())\n",
    "imdb_df['actor3_likes'] = imdb_df['actor3_likes'].replace([0], imdb_df['actor3_likes'].median())\n",
    "imdb_df['movie_likes'] = imdb_df['movie_likes'].replace([0], imdb_df['movie_likes'].median())\n",
    "\n",
    "imdb_df['face_number'].fillna(imdb_df['face_number'].median(), inplace=True)\n",
    "imdb_df['critic_reviews'].fillna(imdb_df['critic_reviews'].median(), inplace=True)\n",
    "imdb_df['aspect_ratio'].fillna(imdb_df['aspect_ratio'].mode(), inplace=True)\n",
    "imdb_df['plot_keywords'].fillna(\"none\", inplace=True)\n",
    "imdb_df['language'].fillna(\"English\", inplace=True)\n",
    "imdb_df['color'].fillna(\"Color\", inplace=True)\n",
    "imdb_df['actor2'].fillna(\"none\", inplace=True)\n",
    "imdb_df['actor3'].fillna(\"none\", inplace=True)\n",
    "imdb_df.info()"
   ]
  },
  {
   "cell_type": "markdown",
   "metadata": {},
   "source": [
    "Next we inspect the `imdb_score` column using the function [value_counts](https://pandas.pydata.org/docs/reference/api/pandas.Series.value_counts.html)."
   ]
  },
  {
   "cell_type": "code",
   "execution_count": 260,
   "metadata": {},
   "outputs": [
    {
     "data": {
      "text/plain": [
       "6.7    176\n",
       "6.6    163\n",
       "6.5    155\n",
       "6.4    146\n",
       "6.1    143\n",
       "      ... \n",
       "2.5      1\n",
       "2.2      1\n",
       "9.2      1\n",
       "2.0      1\n",
       "3.2      1\n",
       "Name: imdb_score, Length: 74, dtype: int64"
      ]
     },
     "execution_count": 260,
     "metadata": {},
     "output_type": "execute_result"
    }
   ],
   "source": [
    "imdb_df['imdb_score'].value_counts()"
   ]
  },
  {
   "cell_type": "markdown",
   "metadata": {},
   "source": [
    "Upon inspection, there are *NaN or Null* values nor are there any invalid values or values that are of a different data type. Hence, this column does not need to be cleaned.\n",
    "\n",
    "Next we create a new column entitled `profit` to easily access the profit of each movie."
   ]
  },
  {
   "cell_type": "code",
   "execution_count": 261,
   "metadata": {},
   "outputs": [
    {
     "data": {
      "text/plain": [
       "0       523505847.0\n",
       "1         9404152.0\n",
       "2       -44925825.0\n",
       "3       198130642.0\n",
       "5      -190641321.0\n",
       "           ...     \n",
       "5027       663780.0\n",
       "5029      -905404.0\n",
       "5033       417760.0\n",
       "5035      2033920.0\n",
       "5042        84122.0\n",
       "Name: profit, Length: 3783, dtype: float64"
      ]
     },
     "execution_count": 261,
     "metadata": {},
     "output_type": "execute_result"
    }
   ],
   "source": [
    "imdb_df['profit'] = imdb_df['gross'] - imdb_df['budget']\n",
    "imdb_df['profit']"
   ]
  },
  {
   "cell_type": "markdown",
   "metadata": {},
   "source": [
    "`content_rating` will also be used in this Exploratory Data Analysis so its values will be inspected."
   ]
  },
  {
   "cell_type": "code",
   "execution_count": 262,
   "metadata": {},
   "outputs": [
    {
     "data": {
      "text/plain": [
       "R            1697\n",
       "PG-13        1302\n",
       "PG            566\n",
       "G              89\n",
       "Not Rated      35\n",
       "Unrated        23\n",
       "Approved       17\n",
       "X              10\n",
       "NC-17           6\n",
       "Passed          3\n",
       "M               2\n",
       "GP              1\n",
       "Name: content_rating, dtype: int64"
      ]
     },
     "execution_count": 262,
     "metadata": {},
     "output_type": "execute_result"
    }
   ],
   "source": [
    "imdb_df['content_rating'].value_counts()"
   ]
  },
  {
   "cell_type": "markdown",
   "metadata": {},
   "source": [
    "Upon inspection, there are **Null or NaN** values, old content rating labels such as: **M**, **GP**, **X**, **approved**, **not rated**, **passed**, and **unrated**. For this notebook, **MPAA** ratings will be used for the data to be uniformed, hence these labels will be changed to their MPAA counterpart.\n",
    "- **Null** variables will be removed\n",
    "- **M** and **GP** ratings will be changed to **PG**\n",
    "- **X** ratings will be changed to **N-17**\n",
    "- **Approved**, Not **Rated**, **Unrated**, and **Passed** will be changed to **R**"
   ]
  },
  {
   "cell_type": "code",
   "execution_count": 263,
   "metadata": {},
   "outputs": [
    {
     "data": {
      "text/plain": [
       "R        1775\n",
       "PG-13    1302\n",
       "PG        569\n",
       "G          89\n",
       "NC-17      16\n",
       "Name: content_rating, dtype: int64"
      ]
     },
     "execution_count": 263,
     "metadata": {},
     "output_type": "execute_result"
    }
   ],
   "source": [
    "imdb_df.dropna(axis = 0, subset=['content_rating'], inplace=True) \n",
    "\n",
    "imdb_df['content_rating'] = imdb_df['content_rating'].replace(['M'], 'PG')\n",
    "imdb_df['content_rating'] = imdb_df['content_rating'].replace(['GP'], 'PG')\n",
    "imdb_df['content_rating'] = imdb_df['content_rating'].replace(['X'], 'NC-17')\n",
    "imdb_df['content_rating'] = imdb_df['content_rating'].replace(['Approved'], 'R')\n",
    "imdb_df['content_rating'] = imdb_df['content_rating'].replace(['Passed'], 'R')\n",
    "imdb_df['content_rating'] = imdb_df['content_rating'].replace(['Not Rated'], 'R')\n",
    "imdb_df['content_rating'] = imdb_df['content_rating'].replace(['Unrated'], 'R')\n",
    "\n",
    "imdb_df['content_rating'].value_counts()"
   ]
  },
  {
   "cell_type": "markdown",
   "metadata": {},
   "source": [
    "Now that we have cleaned all columns that will be used for this notebook. We can now begin the [Exploratory Data Analysis](#exploratory-data-analysis)."
   ]
  },
  {
   "attachments": {},
   "cell_type": "markdown",
   "metadata": {},
   "source": [
    "## Exploratory Data Analysis\n",
    "\n",
    "-- [Return to Table of Contents](#DATA100-GROUP-2-FINAL-PROJECT) --\n"
   ]
  },
  {
   "attachments": {},
   "cell_type": "markdown",
   "metadata": {},
   "source": [
    "### Question 1: "
   ]
  },
  {
   "attachments": {},
   "cell_type": "markdown",
   "metadata": {},
   "source": [
    "### EDA Question 1 Results"
   ]
  },
  {
   "attachments": {},
   "cell_type": "markdown",
   "metadata": {},
   "source": [
    "# Conclusion\n",
    "\n",
    "-- [Return to Table of Contents](#DATA100-GROUP-2-FINAL-PROJECT) --"
   ]
  }
 ],
 "metadata": {
  "colab": {
   "name": "1 - Jupyter Notebook and Python.ipynb",
   "provenance": []
  },
  "kernelspec": {
   "display_name": "base",
   "language": "python",
   "name": "python3"
  },
  "language_info": {
   "codemirror_mode": {
    "name": "ipython",
    "version": 3
   },
   "file_extension": ".py",
   "mimetype": "text/x-python",
   "name": "python",
   "nbconvert_exporter": "python",
   "pygments_lexer": "ipython3",
   "version": "3.11.0"
  },
  "vscode": {
   "interpreter": {
    "hash": "35ed6aa12a0d6ba18c9d471f8c51327fdbfc13293fb971f148297e9497ae5ae2"
   }
  }
 },
 "nbformat": 4,
 "nbformat_minor": 1
}
