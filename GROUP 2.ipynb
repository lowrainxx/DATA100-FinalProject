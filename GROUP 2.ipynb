{
 "cells": [
  {
   "attachments": {},
   "cell_type": "markdown",
   "metadata": {},
   "source": [
    "# DATA100 FINAL PROJECT\n",
    "# PHILIPPINE DENGUE CASES 2016-2020\n",
    "<a id='PHILIPPINE DENGUE CASES'></a>\n",
    "Submitted by: `Group 2`\n",
    "\n",
    "Members:\n",
    "1. Coronado, Calvin\n",
    "2. Fausto, Lorane Bernadeth\n",
    "3. Leonida, Dani\n",
    "4. Li, Julian\n",
    "5. Maronilla, Mary Avelyn\n",
    "6. Ong, Elyssia\n",
    "\n",
    "This notebook is an exploratory data analysis on the [Philippine Dengue Cases Dataset](https://www.kaggle.com/datasets/vincentgupo/dengue-cases-in-the-philippines). The dataset will be explained, cleaned, and explored by the end of this notebook.\n",
    "\n",
    "| **`Table of Contents`** |\n",
    "| --- |\n",
    "| [The Dataset](#the-dataset) |\n",
    "| [Reading the Dataset](#reading-the-dataset) |\n",
    "| [Preliminary Exploratory Data Analysis](#preliminary-exploratory-data-analysis) |\n",
    "| [Cleaning the Dataset](#cleaning-the-dataset) |\n",
    "| [Exploratory Data Analysis](#Exploratory-data-analysis) |\n",
    "| - [Question 1](#question-1) |\n",
    "| [Feature Extraction](#feature-extraction) |\n",
    "| [Data Visualization & Analysis](#data-visualization-&-analysis) |\n",
    "| [Conclusion](#conclusion) |\n",
    "| [References](#references) |"
   ]
  },
  {
   "attachments": {},
   "cell_type": "markdown",
   "metadata": {},
   "source": [
    "## The Dataset\n",
    "\n",
    "-- [Return to Table of Contents](#DATA100-FINAL-PROJECT) --\n",
    "\n",
    "`Dengue` is a vector-borne disease that is transmitted by Aedes aegypti and Aedes albopictus mosquitoes. It is a disease that is endemic in 100 countries, one of them being the Philippines (Department of Health [DOH], n.d.). In 2019, the country recorded one of the highest number of cases in the world, amounting to 437,563 cases. Although the country has established the National Dengue Prevention and Control Program in 1993 to address the long-standing issue with the disease, it is still having issues with managing and reducing the number of cases every year (Ong et al., 2022).\n",
    "\n",
    "`Philippines Dengue Cases 2016-2020` is a collection of the monthly and regional dengue cases in the Philippines from 2016 to 2020. The dataset came from the publicly available data from the Department of Health in the Philippines. *describe dataset here. Include where it came from and how it is compiled. Include limitations if there are.*\n",
    "\n",
    "The dataset is provided as a `.csv` file where it can be viewed in Excel and Notepad. \n",
    "\n",
    "This dataset contains 1020 **observations** across 5 **variables**. Each row represents **1 month per year**, while columns represent **dengue cases information**. The following are the variables in the dataset and their descriptions:\n",
    "\n",
    "| Variable Name | Description |\n",
    "| --- | --- |\n",
    "| **`Month`** | Month of the year in text format |\n",
    "| **`Year`** | Ranges from 2016-2020 in numerical format |\n",
    "| **`Region`** | Region in the Philippines |\n",
    "| **`Dengue_Cases`** | Number of Monthly Cases per region (including deaths) |\n",
    "| **`Dengue_Deaths`** | Number of Monthly Deaths per region due to dengue |"
   ]
  },
  {
   "attachments": {},
   "cell_type": "markdown",
   "metadata": {},
   "source": [
    "## Importing Libraries\n",
    "For this notebook, **numpy**, **pandas**, and **matplotlib** must be imported.\n",
    "\n",
    "*describe sns, matplotlib inline*"
   ]
  },
  {
   "cell_type": "code",
   "execution_count": 1,
   "metadata": {},
   "outputs": [],
   "source": [
    "import numpy as np\n",
    "import pandas as pd\n",
    "import matplotlib.pyplot as plt\n",
    "import seaborn as sns\n",
    "import plotly.express as px\n",
    "\n",
    "from scipy.stats import f_oneway\n",
    "import statistics\n",
    "\n",
    "%matplotlib inline"
   ]
  },
  {
   "attachments": {},
   "cell_type": "markdown",
   "metadata": {},
   "source": [
    "## Reading the Dataset\n",
    "-- [Return to Table of Contents](#DATA100-FINAL-PROJECT) --\n",
    "\n",
    "Here we will load the dataset using pandas. This will load the dataset into a pandas `DataFrame`. We use the [`read_csv`](https://pandas.pydata.org/pandas-docs/stable/reference/api/pandas.read_csv.html) function to load the dataset. The path will have to be changed depending on the location of the file in your machine.\n"
   ]
  },
  {
   "cell_type": "code",
   "execution_count": 2,
   "metadata": {},
   "outputs": [],
   "source": [
    "cases_df = pd.read_csv('ph_dengue_cases2016-2020.csv')"
   ]
  },
  {
   "attachments": {},
   "cell_type": "markdown",
   "metadata": {},
   "source": [
    "The dataset is now loaded in the `cases_df` variable. `cases_df` is a [`DataFrame`](https://pandas.pydata.org/pandas-docs/stable/reference/api/pandas.DataFrame.html). It is a data structure for storing tabular data, and the main data structure used in pandas.\n",
    "\n",
    "The next cell show the contents of the `DataFrame`."
   ]
  },
  {
   "cell_type": "code",
   "execution_count": 3,
   "metadata": {
    "colab_type": "text",
    "id": "J9k8lCPbHTkb"
   },
   "outputs": [
    {
     "data": {
      "text/html": [
       "<div>\n",
       "<style scoped>\n",
       "    .dataframe tbody tr th:only-of-type {\n",
       "        vertical-align: middle;\n",
       "    }\n",
       "\n",
       "    .dataframe tbody tr th {\n",
       "        vertical-align: top;\n",
       "    }\n",
       "\n",
       "    .dataframe thead th {\n",
       "        text-align: right;\n",
       "    }\n",
       "</style>\n",
       "<table border=\"1\" class=\"dataframe\">\n",
       "  <thead>\n",
       "    <tr style=\"text-align: right;\">\n",
       "      <th></th>\n",
       "      <th>Month</th>\n",
       "      <th>Year</th>\n",
       "      <th>Region</th>\n",
       "      <th>Dengue_Cases</th>\n",
       "      <th>Dengue_Deaths</th>\n",
       "    </tr>\n",
       "  </thead>\n",
       "  <tbody>\n",
       "    <tr>\n",
       "      <th>0</th>\n",
       "      <td>January</td>\n",
       "      <td>2016</td>\n",
       "      <td>Region I</td>\n",
       "      <td>705</td>\n",
       "      <td>1</td>\n",
       "    </tr>\n",
       "    <tr>\n",
       "      <th>1</th>\n",
       "      <td>February</td>\n",
       "      <td>2016</td>\n",
       "      <td>Region I</td>\n",
       "      <td>374</td>\n",
       "      <td>0</td>\n",
       "    </tr>\n",
       "    <tr>\n",
       "      <th>2</th>\n",
       "      <td>March</td>\n",
       "      <td>2016</td>\n",
       "      <td>Region I</td>\n",
       "      <td>276</td>\n",
       "      <td>0</td>\n",
       "    </tr>\n",
       "    <tr>\n",
       "      <th>3</th>\n",
       "      <td>April</td>\n",
       "      <td>2016</td>\n",
       "      <td>Region I</td>\n",
       "      <td>240</td>\n",
       "      <td>2</td>\n",
       "    </tr>\n",
       "    <tr>\n",
       "      <th>4</th>\n",
       "      <td>May</td>\n",
       "      <td>2016</td>\n",
       "      <td>Region I</td>\n",
       "      <td>243</td>\n",
       "      <td>1</td>\n",
       "    </tr>\n",
       "    <tr>\n",
       "      <th>...</th>\n",
       "      <td>...</td>\n",
       "      <td>...</td>\n",
       "      <td>...</td>\n",
       "      <td>...</td>\n",
       "      <td>...</td>\n",
       "    </tr>\n",
       "    <tr>\n",
       "      <th>1015</th>\n",
       "      <td>August</td>\n",
       "      <td>2020</td>\n",
       "      <td>BARMM</td>\n",
       "      <td>91</td>\n",
       "      <td>0</td>\n",
       "    </tr>\n",
       "    <tr>\n",
       "      <th>1016</th>\n",
       "      <td>September</td>\n",
       "      <td>2020</td>\n",
       "      <td>BARMM</td>\n",
       "      <td>16</td>\n",
       "      <td>8</td>\n",
       "    </tr>\n",
       "    <tr>\n",
       "      <th>1017</th>\n",
       "      <td>October</td>\n",
       "      <td>2020</td>\n",
       "      <td>BARMM</td>\n",
       "      <td>13</td>\n",
       "      <td>9</td>\n",
       "    </tr>\n",
       "    <tr>\n",
       "      <th>1018</th>\n",
       "      <td>November</td>\n",
       "      <td>2020</td>\n",
       "      <td>BARMM</td>\n",
       "      <td>15</td>\n",
       "      <td>1</td>\n",
       "    </tr>\n",
       "    <tr>\n",
       "      <th>1019</th>\n",
       "      <td>December</td>\n",
       "      <td>2020</td>\n",
       "      <td>BARMM</td>\n",
       "      <td>23</td>\n",
       "      <td>0</td>\n",
       "    </tr>\n",
       "  </tbody>\n",
       "</table>\n",
       "<p>1020 rows × 5 columns</p>\n",
       "</div>"
      ],
      "text/plain": [
       "          Month  Year    Region  Dengue_Cases  Dengue_Deaths\n",
       "0       January  2016  Region I           705              1\n",
       "1      February  2016  Region I           374              0\n",
       "2         March  2016  Region I           276              0\n",
       "3         April  2016  Region I           240              2\n",
       "4           May  2016  Region I           243              1\n",
       "...         ...   ...       ...           ...            ...\n",
       "1015     August  2020     BARMM            91              0\n",
       "1016  September  2020     BARMM            16              8\n",
       "1017    October  2020     BARMM            13              9\n",
       "1018   November  2020     BARMM            15              1\n",
       "1019   December  2020     BARMM            23              0\n",
       "\n",
       "[1020 rows x 5 columns]"
      ]
     },
     "execution_count": 3,
     "metadata": {},
     "output_type": "execute_result"
    }
   ],
   "source": [
    "cases_df"
   ]
  },
  {
   "attachments": {},
   "cell_type": "markdown",
   "metadata": {},
   "source": [
    "Display the dataset info using the [`info`](https://pandas.pydata.org/docs/reference/api/pandas.DataFrame.info.html) function."
   ]
  },
  {
   "cell_type": "code",
   "execution_count": 4,
   "metadata": {},
   "outputs": [
    {
     "name": "stdout",
     "output_type": "stream",
     "text": [
      "<class 'pandas.core.frame.DataFrame'>\n",
      "RangeIndex: 1020 entries, 0 to 1019\n",
      "Data columns (total 5 columns):\n",
      " #   Column         Non-Null Count  Dtype \n",
      "---  ------         --------------  ----- \n",
      " 0   Month          1020 non-null   object\n",
      " 1   Year           1020 non-null   int64 \n",
      " 2   Region         1020 non-null   object\n",
      " 3   Dengue_Cases   1020 non-null   int64 \n",
      " 4   Dengue_Deaths  1020 non-null   int64 \n",
      "dtypes: int64(3), object(2)\n",
      "memory usage: 40.0+ KB\n"
     ]
    }
   ],
   "source": [
    "cases_df.info()"
   ]
  },
  {
   "attachments": {},
   "cell_type": "markdown",
   "metadata": {},
   "source": [
    "## Preliminary Exploratory Data Analysis\n",
    "\n",
    "-- [Return to Table of Contents](#DATA100-FINAL-PROJECT) --\n",
    "\n",
    "*Describe your data. You can point anomalies/outliers in the data.*\n",
    "\n",
    "*include shape() and describe()*"
   ]
  },
  {
   "cell_type": "code",
   "execution_count": 5,
   "metadata": {},
   "outputs": [
    {
     "data": {
      "text/plain": [
       "(1020, 5)"
      ]
     },
     "execution_count": 5,
     "metadata": {},
     "output_type": "execute_result"
    }
   ],
   "source": [
    "cases_df.shape"
   ]
  },
  {
   "cell_type": "code",
   "execution_count": 6,
   "metadata": {},
   "outputs": [
    {
     "data": {
      "text/html": [
       "<div>\n",
       "<style scoped>\n",
       "    .dataframe tbody tr th:only-of-type {\n",
       "        vertical-align: middle;\n",
       "    }\n",
       "\n",
       "    .dataframe tbody tr th {\n",
       "        vertical-align: top;\n",
       "    }\n",
       "\n",
       "    .dataframe thead th {\n",
       "        text-align: right;\n",
       "    }\n",
       "</style>\n",
       "<table border=\"1\" class=\"dataframe\">\n",
       "  <thead>\n",
       "    <tr style=\"text-align: right;\">\n",
       "      <th></th>\n",
       "      <th>Year</th>\n",
       "      <th>Dengue_Cases</th>\n",
       "      <th>Dengue_Deaths</th>\n",
       "    </tr>\n",
       "  </thead>\n",
       "  <tbody>\n",
       "    <tr>\n",
       "      <th>count</th>\n",
       "      <td>1020.000000</td>\n",
       "      <td>1020.000000</td>\n",
       "      <td>1020.000000</td>\n",
       "    </tr>\n",
       "    <tr>\n",
       "      <th>mean</th>\n",
       "      <td>2018.000000</td>\n",
       "      <td>1124.926471</td>\n",
       "      <td>16.513725</td>\n",
       "    </tr>\n",
       "    <tr>\n",
       "      <th>std</th>\n",
       "      <td>1.414907</td>\n",
       "      <td>1662.608878</td>\n",
       "      <td>96.358215</td>\n",
       "    </tr>\n",
       "    <tr>\n",
       "      <th>min</th>\n",
       "      <td>2016.000000</td>\n",
       "      <td>10.000000</td>\n",
       "      <td>0.000000</td>\n",
       "    </tr>\n",
       "    <tr>\n",
       "      <th>25%</th>\n",
       "      <td>2017.000000</td>\n",
       "      <td>247.750000</td>\n",
       "      <td>1.000000</td>\n",
       "    </tr>\n",
       "    <tr>\n",
       "      <th>50%</th>\n",
       "      <td>2018.000000</td>\n",
       "      <td>582.500000</td>\n",
       "      <td>3.000000</td>\n",
       "    </tr>\n",
       "    <tr>\n",
       "      <th>75%</th>\n",
       "      <td>2019.000000</td>\n",
       "      <td>1284.250000</td>\n",
       "      <td>7.000000</td>\n",
       "    </tr>\n",
       "    <tr>\n",
       "      <th>max</th>\n",
       "      <td>2020.000000</td>\n",
       "      <td>21658.000000</td>\n",
       "      <td>1651.000000</td>\n",
       "    </tr>\n",
       "  </tbody>\n",
       "</table>\n",
       "</div>"
      ],
      "text/plain": [
       "              Year  Dengue_Cases  Dengue_Deaths\n",
       "count  1020.000000   1020.000000    1020.000000\n",
       "mean   2018.000000   1124.926471      16.513725\n",
       "std       1.414907   1662.608878      96.358215\n",
       "min    2016.000000     10.000000       0.000000\n",
       "25%    2017.000000    247.750000       1.000000\n",
       "50%    2018.000000    582.500000       3.000000\n",
       "75%    2019.000000   1284.250000       7.000000\n",
       "max    2020.000000  21658.000000    1651.000000"
      ]
     },
     "execution_count": 6,
     "metadata": {},
     "output_type": "execute_result"
    }
   ],
   "source": [
    "cases_df.describe()"
   ]
  },
  {
   "cell_type": "code",
   "execution_count": 7,
   "metadata": {},
   "outputs": [
    {
     "data": {
      "application/vnd.plotly.v1+json": {
       "config": {
        "plotlyServerURL": "https://plot.ly"
       },
       "data": [
        {
         "alignmentgroup": "True",
         "hovertemplate": "Dengue_Cases=%{y}<extra></extra>",
         "legendgroup": "",
         "marker": {
          "color": "#636efa"
         },
         "name": "",
         "notched": false,
         "offsetgroup": "",
         "orientation": "v",
         "showlegend": false,
         "type": "box",
         "x0": " ",
         "xaxis": "x",
         "y": [
          705,
          374,
          276,
          240,
          243,
          345,
          1295,
          1598,
          1415,
          1000,
          555,
          235,
          285,
          202,
          151,
          174,
          179,
          362,
          1032,
          1609,
          1333,
          1159,
          865,
          885,
          699,
          448,
          235,
          325,
          334,
          721,
          3374,
          3266,
          2221,
          1081,
          1285,
          1522,
          596,
          633,
          399,
          183,
          197,
          743,
          2587,
          4178,
          4814,
          2585,
          2133,
          819,
          424,
          442,
          352,
          46,
          87,
          186,
          452,
          1030,
          1052,
          807,
          1212,
          1081,
          659,
          408,
          211,
          138,
          126,
          126,
          390,
          754,
          552,
          292,
          181,
          54,
          265,
          112,
          130,
          112,
          129,
          260,
          639,
          819,
          668,
          990,
          678,
          508,
          418,
          267,
          234,
          238,
          276,
          573,
          1516,
          2518,
          3698,
          2921,
          2522,
          2497,
          1797,
          2136,
          1355,
          429,
          486,
          1171,
          1922,
          2446,
          2152,
          1202,
          957,
          581,
          324,
          436,
          117,
          18,
          17,
          30,
          54,
          108,
          109,
          158,
          161,
          96,
          1976,
          1748,
          883,
          549,
          365,
          363,
          1701,
          2877,
          3194,
          3155,
          2207,
          1971,
          2301,
          1264,
          1006,
          644,
          430,
          756,
          3263,
          4764,
          3263,
          2811,
          2310,
          2388,
          2497,
          1829,
          1237,
          724,
          695,
          1174,
          4576,
          5581,
          5026,
          3302,
          2859,
          2226,
          1813,
          1840,
          1230,
          460,
          428,
          1371,
          2228,
          6593,
          9713,
          5682,
          3003,
          2797,
          2859,
          3091,
          1404,
          207,
          201,
          280,
          698,
          1272,
          1073,
          1013,
          1731,
          2162,
          2993,
          2035,
          1327,
          838,
          714,
          778,
          2270,
          3218,
          3454,
          3175,
          2023,
          1457,
          1764,
          1243,
          927,
          647,
          435,
          815,
          2727,
          3121,
          2520,
          2759,
          2635,
          2828,
          2457,
          1975,
          1494,
          946,
          675,
          991,
          2793,
          3756,
          4697,
          3914,
          3575,
          3137,
          2157,
          3252,
          2252,
          892,
          909,
          2531,
          6365,
          15047,
          21658,
          10365,
          5899,
          4868,
          3175,
          2581,
          1504,
          151,
          77,
          105,
          212,
          291,
          231,
          325,
          542,
          527,
          203,
          219,
          211,
          181,
          203,
          263,
          735,
          778,
          469,
          388,
          214,
          135,
          243,
          255,
          147,
          69,
          94,
          232,
          393,
          412,
          286,
          247,
          203,
          189,
          214,
          277,
          203,
          198,
          238,
          471,
          1650,
          1489,
          1582,
          637,
          470,
          590,
          435,
          710,
          799,
          364,
          248,
          941,
          1628,
          2125,
          1995,
          710,
          616,
          413,
          320,
          607,
          537,
          77,
          111,
          196,
          467,
          1048,
          694,
          438,
          390,
          192,
          237,
          161,
          118,
          94,
          96,
          106,
          248,
          346,
          378,
          319,
          242,
          187,
          232,
          178,
          111,
          130,
          66,
          163,
          373,
          435,
          367,
          508,
          323,
          339,
          297,
          168,
          157,
          173,
          136,
          235,
          408,
          355,
          397,
          320,
          355,
          547,
          342,
          387,
          436,
          223,
          205,
          547,
          1371,
          2281,
          2846,
          1292,
          648,
          563,
          404,
          394,
          335,
          86,
          74,
          55,
          47,
          83,
          60,
          53,
          61,
          69,
          971,
          674,
          596,
          560,
          782,
          1137,
          4993,
          7155,
          5039,
          2562,
          1058,
          643,
          727,
          454,
          336,
          310,
          346,
          630,
          1577,
          2291,
          686,
          488,
          627,
          811,
          755,
          574,
          456,
          487,
          545,
          1017,
          2701,
          2639,
          2846,
          1903,
          1724,
          1935,
          1426,
          2003,
          2262,
          1199,
          1386,
          4859,
          13564,
          18090,
          9048,
          3475,
          1881,
          1164,
          660,
          784,
          630,
          167,
          138,
          272,
          388,
          473,
          169,
          115,
          197,
          138,
          1690,
          1175,
          1220,
          984,
          916,
          756,
          2473,
          4424,
          4458,
          4531,
          3771,
          2997,
          2750,
          1598,
          1058,
          750,
          537,
          718,
          1234,
          2647,
          2570,
          421,
          691,
          966,
          659,
          567,
          478,
          402,
          328,
          636,
          1539,
          2417,
          2830,
          3185,
          4123,
          4725,
          2461,
          2815,
          1831,
          571,
          535,
          1030,
          2124,
          3858,
          5534,
          3791,
          2823,
          3680,
          3389,
          3464,
          2119,
          578,
          290,
          252,
          355,
          626,
          473,
          350,
          303,
          207,
          469,
          376,
          273,
          217,
          364,
          426,
          921,
          839,
          575,
          421,
          278,
          229,
          620,
          438,
          323,
          356,
          220,
          236,
          433,
          417,
          198,
          144,
          191,
          340,
          485,
          313,
          241,
          270,
          325,
          503,
          813,
          1106,
          1315,
          1563,
          1781,
          2261,
          1000,
          1178,
          815,
          488,
          427,
          1031,
          3699,
          7557,
          6084,
          2634,
          1218,
          740,
          897,
          1500,
          1210,
          279,
          192,
          129,
          121,
          138,
          120,
          95,
          110,
          41,
          596,
          432,
          414,
          286,
          451,
          641,
          1025,
          1016,
          693,
          690,
          520,
          451,
          527,
          404,
          261,
          291,
          293,
          521,
          882,
          468,
          115,
          108,
          196,
          208,
          299,
          341,
          288,
          220,
          315,
          366,
          754,
          780,
          658,
          630,
          700,
          810,
          775,
          1003,
          1105,
          948,
          1602,
          3201,
          7024,
          4233,
          3304,
          1773,
          1507,
          972,
          577,
          593,
          433,
          115,
          164,
          124,
          168,
          213,
          107,
          79,
          60,
          51,
          1450,
          1184,
          944,
          768,
          825,
          973,
          2519,
          2897,
          2386,
          1794,
          1066,
          874,
          1097,
          600,
          482,
          451,
          356,
          451,
          686,
          1354,
          290,
          227,
          276,
          409,
          429,
          482,
          655,
          813,
          833,
          1535,
          3062,
          2856,
          3864,
          2341,
          3672,
          2955,
          1476,
          1710,
          1684,
          992,
          1184,
          2415,
          3893,
          4807,
          4406,
          2023,
          1897,
          1869,
          945,
          1150,
          966,
          323,
          330,
          309,
          465,
          597,
          357,
          221,
          281,
          281,
          790,
          711,
          564,
          557,
          628,
          1015,
          2330,
          2063,
          1010,
          1035,
          749,
          685,
          847,
          479,
          304,
          253,
          233,
          241,
          411,
          316,
          153,
          58,
          94,
          278,
          234,
          205,
          191,
          223,
          228,
          477,
          783,
          876,
          792,
          609,
          742,
          956,
          627,
          841,
          806,
          339,
          257,
          584,
          1115,
          1284,
          1141,
          534,
          437,
          501,
          220,
          312,
          352,
          80,
          70,
          51,
          126,
          185,
          146,
          113,
          154,
          127,
          1231,
          843,
          666,
          654,
          730,
          1260,
          3251,
          2582,
          1083,
          928,
          1216,
          1569,
          1512,
          1012,
          968,
          1070,
          758,
          806,
          771,
          733,
          694,
          549,
          349,
          391,
          433,
          378,
          477,
          476,
          490,
          850,
          1195,
          927,
          1016,
          927,
          855,
          1149,
          978,
          1588,
          1658,
          920,
          1286,
          2689,
          3114,
          3579,
          2434,
          1159,
          753,
          482,
          423,
          648,
          703,
          228,
          316,
          347,
          621,
          550,
          136,
          76,
          117,
          198,
          1116,
          679,
          569,
          420,
          566,
          615,
          897,
          851,
          331,
          277,
          396,
          498,
          537,
          290,
          461,
          207,
          155,
          168,
          186,
          216,
          184,
          258,
          119,
          207,
          269,
          314,
          188,
          216,
          221,
          400,
          849,
          803,
          1062,
          1060,
          1361,
          2310,
          2036,
          2047,
          1088,
          328,
          324,
          492,
          749,
          1132,
          1201,
          908,
          713,
          1036,
          938,
          1172,
          816,
          288,
          271,
          162,
          122,
          137,
          28,
          10,
          12,
          27,
          1261,
          999,
          730,
          448,
          414,
          406,
          1436,
          2291,
          1291,
          1033,
          1472,
          1221,
          1676,
          1161,
          930,
          767,
          543,
          1027,
          3139,
          4555,
          3783,
          3833,
          2588,
          2101,
          2043,
          1965,
          1160,
          897,
          603,
          832,
          2608,
          3323,
          5131,
          4472,
          3335,
          2831,
          2082,
          2348,
          1377,
          532,
          442,
          817,
          1839,
          5481,
          11033,
          6776,
          4494,
          3257,
          2328,
          1991,
          1032,
          99,
          65,
          57,
          112,
          158,
          131,
          129,
          423,
          658,
          579,
          276,
          191,
          226,
          504,
          1358,
          2769,
          2179,
          538,
          261,
          161,
          122,
          166,
          123,
          76,
          76,
          57,
          146,
          532,
          841,
          610,
          661,
          391,
          366,
          320,
          234,
          173,
          128,
          188,
          467,
          1330,
          1265,
          1221,
          915,
          649,
          694,
          470,
          694,
          398,
          163,
          187,
          547,
          1226,
          1536,
          1472,
          992,
          756,
          367,
          229,
          185,
          121,
          19,
          31,
          62,
          67,
          72,
          39,
          40,
          38,
          78,
          126,
          92,
          107,
          109,
          165,
          263,
          491,
          327,
          124,
          82,
          143,
          162,
          74,
          59,
          25,
          36,
          22,
          57,
          62,
          41,
          33,
          38,
          17,
          21,
          149,
          129,
          77,
          124,
          164,
          254,
          412,
          253,
          261,
          246,
          183,
          208,
          201,
          309,
          303,
          221,
          284,
          554,
          772,
          811,
          807,
          481,
          362,
          288,
          212,
          233,
          207,
          23,
          27,
          48,
          100,
          91,
          16,
          13,
          15,
          23
         ],
         "y0": " ",
         "yaxis": "y"
        }
       ],
       "layout": {
        "boxmode": "group",
        "legend": {
         "tracegroupgap": 0
        },
        "margin": {
         "t": 60
        },
        "template": {
         "data": {
          "bar": [
           {
            "error_x": {
             "color": "#2a3f5f"
            },
            "error_y": {
             "color": "#2a3f5f"
            },
            "marker": {
             "line": {
              "color": "#E5ECF6",
              "width": 0.5
             },
             "pattern": {
              "fillmode": "overlay",
              "size": 10,
              "solidity": 0.2
             }
            },
            "type": "bar"
           }
          ],
          "barpolar": [
           {
            "marker": {
             "line": {
              "color": "#E5ECF6",
              "width": 0.5
             },
             "pattern": {
              "fillmode": "overlay",
              "size": 10,
              "solidity": 0.2
             }
            },
            "type": "barpolar"
           }
          ],
          "carpet": [
           {
            "aaxis": {
             "endlinecolor": "#2a3f5f",
             "gridcolor": "white",
             "linecolor": "white",
             "minorgridcolor": "white",
             "startlinecolor": "#2a3f5f"
            },
            "baxis": {
             "endlinecolor": "#2a3f5f",
             "gridcolor": "white",
             "linecolor": "white",
             "minorgridcolor": "white",
             "startlinecolor": "#2a3f5f"
            },
            "type": "carpet"
           }
          ],
          "choropleth": [
           {
            "colorbar": {
             "outlinewidth": 0,
             "ticks": ""
            },
            "type": "choropleth"
           }
          ],
          "contour": [
           {
            "colorbar": {
             "outlinewidth": 0,
             "ticks": ""
            },
            "colorscale": [
             [
              0,
              "#0d0887"
             ],
             [
              0.1111111111111111,
              "#46039f"
             ],
             [
              0.2222222222222222,
              "#7201a8"
             ],
             [
              0.3333333333333333,
              "#9c179e"
             ],
             [
              0.4444444444444444,
              "#bd3786"
             ],
             [
              0.5555555555555556,
              "#d8576b"
             ],
             [
              0.6666666666666666,
              "#ed7953"
             ],
             [
              0.7777777777777778,
              "#fb9f3a"
             ],
             [
              0.8888888888888888,
              "#fdca26"
             ],
             [
              1,
              "#f0f921"
             ]
            ],
            "type": "contour"
           }
          ],
          "contourcarpet": [
           {
            "colorbar": {
             "outlinewidth": 0,
             "ticks": ""
            },
            "type": "contourcarpet"
           }
          ],
          "heatmap": [
           {
            "colorbar": {
             "outlinewidth": 0,
             "ticks": ""
            },
            "colorscale": [
             [
              0,
              "#0d0887"
             ],
             [
              0.1111111111111111,
              "#46039f"
             ],
             [
              0.2222222222222222,
              "#7201a8"
             ],
             [
              0.3333333333333333,
              "#9c179e"
             ],
             [
              0.4444444444444444,
              "#bd3786"
             ],
             [
              0.5555555555555556,
              "#d8576b"
             ],
             [
              0.6666666666666666,
              "#ed7953"
             ],
             [
              0.7777777777777778,
              "#fb9f3a"
             ],
             [
              0.8888888888888888,
              "#fdca26"
             ],
             [
              1,
              "#f0f921"
             ]
            ],
            "type": "heatmap"
           }
          ],
          "heatmapgl": [
           {
            "colorbar": {
             "outlinewidth": 0,
             "ticks": ""
            },
            "colorscale": [
             [
              0,
              "#0d0887"
             ],
             [
              0.1111111111111111,
              "#46039f"
             ],
             [
              0.2222222222222222,
              "#7201a8"
             ],
             [
              0.3333333333333333,
              "#9c179e"
             ],
             [
              0.4444444444444444,
              "#bd3786"
             ],
             [
              0.5555555555555556,
              "#d8576b"
             ],
             [
              0.6666666666666666,
              "#ed7953"
             ],
             [
              0.7777777777777778,
              "#fb9f3a"
             ],
             [
              0.8888888888888888,
              "#fdca26"
             ],
             [
              1,
              "#f0f921"
             ]
            ],
            "type": "heatmapgl"
           }
          ],
          "histogram": [
           {
            "marker": {
             "pattern": {
              "fillmode": "overlay",
              "size": 10,
              "solidity": 0.2
             }
            },
            "type": "histogram"
           }
          ],
          "histogram2d": [
           {
            "colorbar": {
             "outlinewidth": 0,
             "ticks": ""
            },
            "colorscale": [
             [
              0,
              "#0d0887"
             ],
             [
              0.1111111111111111,
              "#46039f"
             ],
             [
              0.2222222222222222,
              "#7201a8"
             ],
             [
              0.3333333333333333,
              "#9c179e"
             ],
             [
              0.4444444444444444,
              "#bd3786"
             ],
             [
              0.5555555555555556,
              "#d8576b"
             ],
             [
              0.6666666666666666,
              "#ed7953"
             ],
             [
              0.7777777777777778,
              "#fb9f3a"
             ],
             [
              0.8888888888888888,
              "#fdca26"
             ],
             [
              1,
              "#f0f921"
             ]
            ],
            "type": "histogram2d"
           }
          ],
          "histogram2dcontour": [
           {
            "colorbar": {
             "outlinewidth": 0,
             "ticks": ""
            },
            "colorscale": [
             [
              0,
              "#0d0887"
             ],
             [
              0.1111111111111111,
              "#46039f"
             ],
             [
              0.2222222222222222,
              "#7201a8"
             ],
             [
              0.3333333333333333,
              "#9c179e"
             ],
             [
              0.4444444444444444,
              "#bd3786"
             ],
             [
              0.5555555555555556,
              "#d8576b"
             ],
             [
              0.6666666666666666,
              "#ed7953"
             ],
             [
              0.7777777777777778,
              "#fb9f3a"
             ],
             [
              0.8888888888888888,
              "#fdca26"
             ],
             [
              1,
              "#f0f921"
             ]
            ],
            "type": "histogram2dcontour"
           }
          ],
          "mesh3d": [
           {
            "colorbar": {
             "outlinewidth": 0,
             "ticks": ""
            },
            "type": "mesh3d"
           }
          ],
          "parcoords": [
           {
            "line": {
             "colorbar": {
              "outlinewidth": 0,
              "ticks": ""
             }
            },
            "type": "parcoords"
           }
          ],
          "pie": [
           {
            "automargin": true,
            "type": "pie"
           }
          ],
          "scatter": [
           {
            "marker": {
             "colorbar": {
              "outlinewidth": 0,
              "ticks": ""
             }
            },
            "type": "scatter"
           }
          ],
          "scatter3d": [
           {
            "line": {
             "colorbar": {
              "outlinewidth": 0,
              "ticks": ""
             }
            },
            "marker": {
             "colorbar": {
              "outlinewidth": 0,
              "ticks": ""
             }
            },
            "type": "scatter3d"
           }
          ],
          "scattercarpet": [
           {
            "marker": {
             "colorbar": {
              "outlinewidth": 0,
              "ticks": ""
             }
            },
            "type": "scattercarpet"
           }
          ],
          "scattergeo": [
           {
            "marker": {
             "colorbar": {
              "outlinewidth": 0,
              "ticks": ""
             }
            },
            "type": "scattergeo"
           }
          ],
          "scattergl": [
           {
            "marker": {
             "colorbar": {
              "outlinewidth": 0,
              "ticks": ""
             }
            },
            "type": "scattergl"
           }
          ],
          "scattermapbox": [
           {
            "marker": {
             "colorbar": {
              "outlinewidth": 0,
              "ticks": ""
             }
            },
            "type": "scattermapbox"
           }
          ],
          "scatterpolar": [
           {
            "marker": {
             "colorbar": {
              "outlinewidth": 0,
              "ticks": ""
             }
            },
            "type": "scatterpolar"
           }
          ],
          "scatterpolargl": [
           {
            "marker": {
             "colorbar": {
              "outlinewidth": 0,
              "ticks": ""
             }
            },
            "type": "scatterpolargl"
           }
          ],
          "scatterternary": [
           {
            "marker": {
             "colorbar": {
              "outlinewidth": 0,
              "ticks": ""
             }
            },
            "type": "scatterternary"
           }
          ],
          "surface": [
           {
            "colorbar": {
             "outlinewidth": 0,
             "ticks": ""
            },
            "colorscale": [
             [
              0,
              "#0d0887"
             ],
             [
              0.1111111111111111,
              "#46039f"
             ],
             [
              0.2222222222222222,
              "#7201a8"
             ],
             [
              0.3333333333333333,
              "#9c179e"
             ],
             [
              0.4444444444444444,
              "#bd3786"
             ],
             [
              0.5555555555555556,
              "#d8576b"
             ],
             [
              0.6666666666666666,
              "#ed7953"
             ],
             [
              0.7777777777777778,
              "#fb9f3a"
             ],
             [
              0.8888888888888888,
              "#fdca26"
             ],
             [
              1,
              "#f0f921"
             ]
            ],
            "type": "surface"
           }
          ],
          "table": [
           {
            "cells": {
             "fill": {
              "color": "#EBF0F8"
             },
             "line": {
              "color": "white"
             }
            },
            "header": {
             "fill": {
              "color": "#C8D4E3"
             },
             "line": {
              "color": "white"
             }
            },
            "type": "table"
           }
          ]
         },
         "layout": {
          "annotationdefaults": {
           "arrowcolor": "#2a3f5f",
           "arrowhead": 0,
           "arrowwidth": 1
          },
          "autotypenumbers": "strict",
          "coloraxis": {
           "colorbar": {
            "outlinewidth": 0,
            "ticks": ""
           }
          },
          "colorscale": {
           "diverging": [
            [
             0,
             "#8e0152"
            ],
            [
             0.1,
             "#c51b7d"
            ],
            [
             0.2,
             "#de77ae"
            ],
            [
             0.3,
             "#f1b6da"
            ],
            [
             0.4,
             "#fde0ef"
            ],
            [
             0.5,
             "#f7f7f7"
            ],
            [
             0.6,
             "#e6f5d0"
            ],
            [
             0.7,
             "#b8e186"
            ],
            [
             0.8,
             "#7fbc41"
            ],
            [
             0.9,
             "#4d9221"
            ],
            [
             1,
             "#276419"
            ]
           ],
           "sequential": [
            [
             0,
             "#0d0887"
            ],
            [
             0.1111111111111111,
             "#46039f"
            ],
            [
             0.2222222222222222,
             "#7201a8"
            ],
            [
             0.3333333333333333,
             "#9c179e"
            ],
            [
             0.4444444444444444,
             "#bd3786"
            ],
            [
             0.5555555555555556,
             "#d8576b"
            ],
            [
             0.6666666666666666,
             "#ed7953"
            ],
            [
             0.7777777777777778,
             "#fb9f3a"
            ],
            [
             0.8888888888888888,
             "#fdca26"
            ],
            [
             1,
             "#f0f921"
            ]
           ],
           "sequentialminus": [
            [
             0,
             "#0d0887"
            ],
            [
             0.1111111111111111,
             "#46039f"
            ],
            [
             0.2222222222222222,
             "#7201a8"
            ],
            [
             0.3333333333333333,
             "#9c179e"
            ],
            [
             0.4444444444444444,
             "#bd3786"
            ],
            [
             0.5555555555555556,
             "#d8576b"
            ],
            [
             0.6666666666666666,
             "#ed7953"
            ],
            [
             0.7777777777777778,
             "#fb9f3a"
            ],
            [
             0.8888888888888888,
             "#fdca26"
            ],
            [
             1,
             "#f0f921"
            ]
           ]
          },
          "colorway": [
           "#636efa",
           "#EF553B",
           "#00cc96",
           "#ab63fa",
           "#FFA15A",
           "#19d3f3",
           "#FF6692",
           "#B6E880",
           "#FF97FF",
           "#FECB52"
          ],
          "font": {
           "color": "#2a3f5f"
          },
          "geo": {
           "bgcolor": "white",
           "lakecolor": "white",
           "landcolor": "#E5ECF6",
           "showlakes": true,
           "showland": true,
           "subunitcolor": "white"
          },
          "hoverlabel": {
           "align": "left"
          },
          "hovermode": "closest",
          "mapbox": {
           "style": "light"
          },
          "paper_bgcolor": "white",
          "plot_bgcolor": "#E5ECF6",
          "polar": {
           "angularaxis": {
            "gridcolor": "white",
            "linecolor": "white",
            "ticks": ""
           },
           "bgcolor": "#E5ECF6",
           "radialaxis": {
            "gridcolor": "white",
            "linecolor": "white",
            "ticks": ""
           }
          },
          "scene": {
           "xaxis": {
            "backgroundcolor": "#E5ECF6",
            "gridcolor": "white",
            "gridwidth": 2,
            "linecolor": "white",
            "showbackground": true,
            "ticks": "",
            "zerolinecolor": "white"
           },
           "yaxis": {
            "backgroundcolor": "#E5ECF6",
            "gridcolor": "white",
            "gridwidth": 2,
            "linecolor": "white",
            "showbackground": true,
            "ticks": "",
            "zerolinecolor": "white"
           },
           "zaxis": {
            "backgroundcolor": "#E5ECF6",
            "gridcolor": "white",
            "gridwidth": 2,
            "linecolor": "white",
            "showbackground": true,
            "ticks": "",
            "zerolinecolor": "white"
           }
          },
          "shapedefaults": {
           "line": {
            "color": "#2a3f5f"
           }
          },
          "ternary": {
           "aaxis": {
            "gridcolor": "white",
            "linecolor": "white",
            "ticks": ""
           },
           "baxis": {
            "gridcolor": "white",
            "linecolor": "white",
            "ticks": ""
           },
           "bgcolor": "#E5ECF6",
           "caxis": {
            "gridcolor": "white",
            "linecolor": "white",
            "ticks": ""
           }
          },
          "title": {
           "x": 0.05
          },
          "xaxis": {
           "automargin": true,
           "gridcolor": "white",
           "linecolor": "white",
           "ticks": "",
           "title": {
            "standoff": 15
           },
           "zerolinecolor": "white",
           "zerolinewidth": 2
          },
          "yaxis": {
           "automargin": true,
           "gridcolor": "white",
           "linecolor": "white",
           "ticks": "",
           "title": {
            "standoff": 15
           },
           "zerolinecolor": "white",
           "zerolinewidth": 2
          }
         }
        },
        "xaxis": {
         "anchor": "y",
         "domain": [
          0,
          1
         ]
        },
        "yaxis": {
         "anchor": "x",
         "domain": [
          0,
          1
         ],
         "title": {
          "text": "Dengue_Cases"
         }
        }
       }
      }
     },
     "metadata": {},
     "output_type": "display_data"
    }
   ],
   "source": [
    "#checking for outliers for dengue cases\n",
    "fig = px.box(cases_df, y=\"Dengue_Cases\")\n",
    "fig.show()"
   ]
  },
  {
   "cell_type": "code",
   "execution_count": 8,
   "metadata": {},
   "outputs": [
    {
     "data": {
      "application/vnd.plotly.v1+json": {
       "config": {
        "plotlyServerURL": "https://plot.ly"
       },
       "data": [
        {
         "alignmentgroup": "True",
         "hovertemplate": "Dengue_Deaths=%{y}<extra></extra>",
         "legendgroup": "",
         "marker": {
          "color": "#636efa"
         },
         "name": "",
         "notched": false,
         "offsetgroup": "",
         "orientation": "v",
         "showlegend": false,
         "type": "box",
         "x0": " ",
         "xaxis": "x",
         "y": [
          1,
          0,
          0,
          2,
          1,
          1,
          2,
          3,
          3,
          6,
          1,
          1,
          0,
          2,
          1,
          1,
          0,
          2,
          2,
          1,
          3,
          5,
          3,
          3,
          6,
          3,
          1,
          0,
          0,
          4,
          13,
          10,
          8,
          1,
          1,
          6,
          2,
          1,
          0,
          1,
          1,
          3,
          9,
          11,
          9,
          3,
          2,
          0,
          1,
          2,
          5,
          2,
          0,
          2,
          2,
          0,
          2,
          1,
          0,
          1,
          2,
          2,
          0,
          0,
          0,
          1,
          1,
          0,
          1,
          3,
          1,
          0,
          1,
          1,
          0,
          2,
          1,
          0,
          1,
          7,
          3,
          12,
          4,
          2,
          2,
          0,
          2,
          1,
          0,
          3,
          4,
          6,
          12,
          10,
          5,
          17,
          18,
          3,
          2,
          2,
          3,
          3,
          15,
          12,
          11,
          3,
          5,
          0,
          4,
          0,
          0,
          0,
          0,
          0,
          0,
          2,
          1,
          2,
          0,
          0,
          3,
          5,
          3,
          0,
          0,
          0,
          5,
          8,
          12,
          11,
          13,
          5,
          6,
          9,
          3,
          3,
          2,
          2,
          6,
          18,
          9,
          6,
          7,
          10,
          5,
          4,
          3,
          1,
          2,
          5,
          19,
          18,
          12,
          5,
          7,
          4,
          4,
          5,
          3,
          1,
          1,
          4,
          18,
          17,
          121,
          5,
          4,
          11,
          6,
          14,
          4,
          0,
          0,
          3,
          12,
          3,
          3,
          5,
          1,
          6,
          14,
          5,
          9,
          1,
          1,
          4,
          6,
          2,
          28,
          20,
          10,
          8,
          14,
          5,
          2,
          0,
          1,
          5,
          5,
          17,
          6,
          20,
          21,
          14,
          17,
          9,
          10,
          10,
          4,
          2,
          17,
          18,
          31,
          18,
          16,
          5,
          6,
          14,
          13,
          3,
          9,
          8,
          21,
          39,
          48,
          37,
          23,
          21,
          11,
          3,
          6,
          0,
          1,
          0,
          0,
          1,
          4,
          2,
          3,
          4,
          1,
          0,
          1,
          2,
          5,
          0,
          2,
          3,
          2,
          1,
          1,
          0,
          0,
          0,
          0,
          1,
          0,
          0,
          1,
          1,
          2,
          5,
          1,
          1,
          1,
          2,
          2,
          2,
          1,
          2,
          6,
          17,
          12,
          3,
          1,
          2,
          3,
          2,
          2,
          2,
          0,
          1,
          2,
          4,
          4,
          4,
          2,
          0,
          0,
          2,
          2,
          0,
          0,
          0,
          0,
          3,
          1,
          2,
          13,
          0,
          0,
          0,
          2,
          1,
          0,
          0,
          2,
          1,
          7,
          3,
          0,
          0,
          1,
          1,
          0,
          1,
          1,
          1,
          1,
          2,
          2,
          5,
          6,
          3,
          3,
          2,
          0,
          1,
          1,
          7,
          3,
          3,
          6,
          3,
          3,
          4,
          2,
          9,
          7,
          2,
          3,
          9,
          10,
          12,
          16,
          7,
          4,
          7,
          2,
          3,
          5,
          3,
          0,
          1,
          1,
          4,
          0,
          0,
          1,
          1,
          1,
          2,
          1,
          1,
          3,
          4,
          17,
          22,
          16,
          12,
          5,
          3,
          5,
          5,
          2,
          6,
          3,
          5,
          12,
          10,
          648,
          668,
          8,
          8,
          3,
          3,
          6,
          5,
          2,
          13,
          15,
          16,
          21,
          9,
          9,
          7,
          10,
          8,
          19,
          7,
          9,
          31,
          48,
          54,
          32,
          8,
          4,
          3,
          0,
          1,
          2,
          0,
          1,
          1,
          2,
          4,
          2,
          1,
          2,
          0,
          10,
          7,
          5,
          15,
          7,
          8,
          20,
          32,
          31,
          46,
          36,
          26,
          28,
          15,
          11,
          16,
          3,
          6,
          9,
          10,
          492,
          584,
          6,
          9,
          4,
          1,
          7,
          1,
          5,
          3,
          6,
          12,
          5,
          32,
          29,
          26,
          17,
          13,
          9,
          4,
          6,
          14,
          14,
          12,
          16,
          7,
          15,
          16,
          8,
          18,
          6,
          2,
          3,
          2,
          3,
          5,
          4,
          0,
          3,
          0,
          4,
          1,
          2,
          0,
          3,
          11,
          7,
          7,
          4,
          0,
          0,
          3,
          3,
          0,
          1,
          1,
          2,
          2,
          2,
          0,
          147,
          236,
          2,
          2,
          2,
          4,
          4,
          1,
          1,
          4,
          6,
          4,
          6,
          3,
          11,
          14,
          5,
          5,
          1,
          5,
          3,
          4,
          11,
          19,
          9,
          4,
          5,
          2,
          3,
          3,
          2,
          1,
          0,
          1,
          0,
          0,
          1,
          0,
          1,
          0,
          2,
          2,
          1,
          1,
          3,
          5,
          4,
          4,
          4,
          5,
          6,
          4,
          4,
          2,
          1,
          0,
          1,
          5,
          5,
          0,
          116,
          176,
          2,
          1,
          3,
          2,
          3,
          0,
          2,
          1,
          5,
          11,
          4,
          7,
          11,
          5,
          7,
          5,
          10,
          11,
          8,
          11,
          20,
          20,
          4,
          7,
          3,
          2,
          3,
          3,
          1,
          2,
          1,
          1,
          0,
          1,
          3,
          0,
          0,
          1,
          4,
          3,
          2,
          3,
          4,
          4,
          10,
          11,
          10,
          10,
          6,
          2,
          4,
          2,
          4,
          2,
          2,
          1,
          3,
          4,
          243,
          282,
          1,
          0,
          4,
          3,
          11,
          6,
          6,
          10,
          16,
          11,
          9,
          7,
          6,
          12,
          0,
          6,
          14,
          5,
          3,
          6,
          19,
          17,
          13,
          7,
          2,
          3,
          6,
          3,
          3,
          4,
          0,
          0,
          3,
          4,
          3,
          5,
          3,
          1,
          6,
          3,
          8,
          4,
          5,
          14,
          13,
          9,
          12,
          7,
          9,
          5,
          10,
          5,
          2,
          0,
          1,
          2,
          3,
          3,
          109,
          72,
          0,
          2,
          0,
          1,
          0,
          1,
          1,
          4,
          5,
          4,
          2,
          2,
          1,
          1,
          0,
          5,
          2,
          1,
          0,
          3,
          10,
          9,
          9,
          4,
          2,
          1,
          2,
          0,
          3,
          0,
          0,
          0,
          2,
          3,
          2,
          1,
          0,
          0,
          9,
          0,
          4,
          2,
          3,
          5,
          15,
          11,
          1036,
          1270,
          6,
          8,
          8,
          10,
          3,
          4,
          2,
          2,
          2,
          1,
          10,
          2,
          0,
          2,
          1,
          1,
          2,
          1,
          2,
          8,
          5,
          5,
          6,
          5,
          2,
          4,
          2,
          3,
          12,
          7,
          4,
          15,
          15,
          4,
          16,
          7,
          2,
          4,
          4,
          1,
          2,
          0,
          5,
          3,
          3,
          4,
          117,
          80,
          27,
          2,
          6,
          3,
          3,
          1,
          2,
          2,
          2,
          9,
          308,
          481,
          1,
          6,
          4,
          1,
          2,
          0,
          0,
          0,
          1,
          4,
          0,
          1,
          1,
          0,
          0,
          1,
          0,
          2,
          1,
          0,
          6,
          3,
          5,
          5,
          5,
          14,
          5,
          7,
          3,
          2,
          0,
          0,
          0,
          2,
          4,
          2,
          0,
          2,
          5,
          2,
          1,
          2,
          0,
          0,
          1,
          0,
          31,
          14,
          3,
          0,
          4,
          7,
          3,
          2,
          0,
          0,
          5,
          6,
          1291,
          1651,
          8,
          10,
          7,
          4,
          4,
          6,
          4,
          9,
          20,
          30,
          32,
          24,
          13,
          15,
          12,
          4,
          5,
          6,
          2,
          6,
          23,
          14,
          44,
          32,
          20,
          12,
          9,
          9,
          4,
          4,
          3,
          2,
          14,
          36,
          58,
          25,
          11,
          15,
          10,
          7,
          3,
          0,
          0,
          0,
          0,
          1,
          134,
          185,
          139,
          4,
          4,
          1,
          0,
          1,
          0,
          3,
          10,
          2,
          548,
          319,
          0,
          0,
          0,
          1,
          0,
          0,
          0,
          0,
          1,
          3,
          3,
          0,
          3,
          1,
          0,
          2,
          0,
          0,
          0,
          1,
          1,
          2,
          2,
          0,
          0,
          0,
          2,
          2,
          0,
          0,
          1,
          1,
          4,
          6,
          5,
          1,
          4,
          1,
          1,
          0,
          0,
          1,
          0,
          0,
          0,
          0,
          26,
          28,
          15,
          2,
          2,
          2,
          3,
          4,
          4,
          7,
          2,
          2,
          105,
          109,
          1,
          2,
          0,
          1,
          0,
          0,
          0,
          0,
          0,
          0,
          1,
          0,
          0,
          0,
          2,
          1,
          2,
          3,
          1,
          5,
          3,
          2,
          0,
          8,
          4,
          2,
          2,
          4,
          2,
          2,
          2,
          4,
          2,
          6,
          2,
          2,
          0,
          3,
          1,
          2,
          2,
          0,
          0,
          0,
          0,
          0,
          8,
          9,
          1,
          0
         ],
         "y0": " ",
         "yaxis": "y"
        }
       ],
       "layout": {
        "boxmode": "group",
        "legend": {
         "tracegroupgap": 0
        },
        "margin": {
         "t": 60
        },
        "template": {
         "data": {
          "bar": [
           {
            "error_x": {
             "color": "#2a3f5f"
            },
            "error_y": {
             "color": "#2a3f5f"
            },
            "marker": {
             "line": {
              "color": "#E5ECF6",
              "width": 0.5
             },
             "pattern": {
              "fillmode": "overlay",
              "size": 10,
              "solidity": 0.2
             }
            },
            "type": "bar"
           }
          ],
          "barpolar": [
           {
            "marker": {
             "line": {
              "color": "#E5ECF6",
              "width": 0.5
             },
             "pattern": {
              "fillmode": "overlay",
              "size": 10,
              "solidity": 0.2
             }
            },
            "type": "barpolar"
           }
          ],
          "carpet": [
           {
            "aaxis": {
             "endlinecolor": "#2a3f5f",
             "gridcolor": "white",
             "linecolor": "white",
             "minorgridcolor": "white",
             "startlinecolor": "#2a3f5f"
            },
            "baxis": {
             "endlinecolor": "#2a3f5f",
             "gridcolor": "white",
             "linecolor": "white",
             "minorgridcolor": "white",
             "startlinecolor": "#2a3f5f"
            },
            "type": "carpet"
           }
          ],
          "choropleth": [
           {
            "colorbar": {
             "outlinewidth": 0,
             "ticks": ""
            },
            "type": "choropleth"
           }
          ],
          "contour": [
           {
            "colorbar": {
             "outlinewidth": 0,
             "ticks": ""
            },
            "colorscale": [
             [
              0,
              "#0d0887"
             ],
             [
              0.1111111111111111,
              "#46039f"
             ],
             [
              0.2222222222222222,
              "#7201a8"
             ],
             [
              0.3333333333333333,
              "#9c179e"
             ],
             [
              0.4444444444444444,
              "#bd3786"
             ],
             [
              0.5555555555555556,
              "#d8576b"
             ],
             [
              0.6666666666666666,
              "#ed7953"
             ],
             [
              0.7777777777777778,
              "#fb9f3a"
             ],
             [
              0.8888888888888888,
              "#fdca26"
             ],
             [
              1,
              "#f0f921"
             ]
            ],
            "type": "contour"
           }
          ],
          "contourcarpet": [
           {
            "colorbar": {
             "outlinewidth": 0,
             "ticks": ""
            },
            "type": "contourcarpet"
           }
          ],
          "heatmap": [
           {
            "colorbar": {
             "outlinewidth": 0,
             "ticks": ""
            },
            "colorscale": [
             [
              0,
              "#0d0887"
             ],
             [
              0.1111111111111111,
              "#46039f"
             ],
             [
              0.2222222222222222,
              "#7201a8"
             ],
             [
              0.3333333333333333,
              "#9c179e"
             ],
             [
              0.4444444444444444,
              "#bd3786"
             ],
             [
              0.5555555555555556,
              "#d8576b"
             ],
             [
              0.6666666666666666,
              "#ed7953"
             ],
             [
              0.7777777777777778,
              "#fb9f3a"
             ],
             [
              0.8888888888888888,
              "#fdca26"
             ],
             [
              1,
              "#f0f921"
             ]
            ],
            "type": "heatmap"
           }
          ],
          "heatmapgl": [
           {
            "colorbar": {
             "outlinewidth": 0,
             "ticks": ""
            },
            "colorscale": [
             [
              0,
              "#0d0887"
             ],
             [
              0.1111111111111111,
              "#46039f"
             ],
             [
              0.2222222222222222,
              "#7201a8"
             ],
             [
              0.3333333333333333,
              "#9c179e"
             ],
             [
              0.4444444444444444,
              "#bd3786"
             ],
             [
              0.5555555555555556,
              "#d8576b"
             ],
             [
              0.6666666666666666,
              "#ed7953"
             ],
             [
              0.7777777777777778,
              "#fb9f3a"
             ],
             [
              0.8888888888888888,
              "#fdca26"
             ],
             [
              1,
              "#f0f921"
             ]
            ],
            "type": "heatmapgl"
           }
          ],
          "histogram": [
           {
            "marker": {
             "pattern": {
              "fillmode": "overlay",
              "size": 10,
              "solidity": 0.2
             }
            },
            "type": "histogram"
           }
          ],
          "histogram2d": [
           {
            "colorbar": {
             "outlinewidth": 0,
             "ticks": ""
            },
            "colorscale": [
             [
              0,
              "#0d0887"
             ],
             [
              0.1111111111111111,
              "#46039f"
             ],
             [
              0.2222222222222222,
              "#7201a8"
             ],
             [
              0.3333333333333333,
              "#9c179e"
             ],
             [
              0.4444444444444444,
              "#bd3786"
             ],
             [
              0.5555555555555556,
              "#d8576b"
             ],
             [
              0.6666666666666666,
              "#ed7953"
             ],
             [
              0.7777777777777778,
              "#fb9f3a"
             ],
             [
              0.8888888888888888,
              "#fdca26"
             ],
             [
              1,
              "#f0f921"
             ]
            ],
            "type": "histogram2d"
           }
          ],
          "histogram2dcontour": [
           {
            "colorbar": {
             "outlinewidth": 0,
             "ticks": ""
            },
            "colorscale": [
             [
              0,
              "#0d0887"
             ],
             [
              0.1111111111111111,
              "#46039f"
             ],
             [
              0.2222222222222222,
              "#7201a8"
             ],
             [
              0.3333333333333333,
              "#9c179e"
             ],
             [
              0.4444444444444444,
              "#bd3786"
             ],
             [
              0.5555555555555556,
              "#d8576b"
             ],
             [
              0.6666666666666666,
              "#ed7953"
             ],
             [
              0.7777777777777778,
              "#fb9f3a"
             ],
             [
              0.8888888888888888,
              "#fdca26"
             ],
             [
              1,
              "#f0f921"
             ]
            ],
            "type": "histogram2dcontour"
           }
          ],
          "mesh3d": [
           {
            "colorbar": {
             "outlinewidth": 0,
             "ticks": ""
            },
            "type": "mesh3d"
           }
          ],
          "parcoords": [
           {
            "line": {
             "colorbar": {
              "outlinewidth": 0,
              "ticks": ""
             }
            },
            "type": "parcoords"
           }
          ],
          "pie": [
           {
            "automargin": true,
            "type": "pie"
           }
          ],
          "scatter": [
           {
            "marker": {
             "colorbar": {
              "outlinewidth": 0,
              "ticks": ""
             }
            },
            "type": "scatter"
           }
          ],
          "scatter3d": [
           {
            "line": {
             "colorbar": {
              "outlinewidth": 0,
              "ticks": ""
             }
            },
            "marker": {
             "colorbar": {
              "outlinewidth": 0,
              "ticks": ""
             }
            },
            "type": "scatter3d"
           }
          ],
          "scattercarpet": [
           {
            "marker": {
             "colorbar": {
              "outlinewidth": 0,
              "ticks": ""
             }
            },
            "type": "scattercarpet"
           }
          ],
          "scattergeo": [
           {
            "marker": {
             "colorbar": {
              "outlinewidth": 0,
              "ticks": ""
             }
            },
            "type": "scattergeo"
           }
          ],
          "scattergl": [
           {
            "marker": {
             "colorbar": {
              "outlinewidth": 0,
              "ticks": ""
             }
            },
            "type": "scattergl"
           }
          ],
          "scattermapbox": [
           {
            "marker": {
             "colorbar": {
              "outlinewidth": 0,
              "ticks": ""
             }
            },
            "type": "scattermapbox"
           }
          ],
          "scatterpolar": [
           {
            "marker": {
             "colorbar": {
              "outlinewidth": 0,
              "ticks": ""
             }
            },
            "type": "scatterpolar"
           }
          ],
          "scatterpolargl": [
           {
            "marker": {
             "colorbar": {
              "outlinewidth": 0,
              "ticks": ""
             }
            },
            "type": "scatterpolargl"
           }
          ],
          "scatterternary": [
           {
            "marker": {
             "colorbar": {
              "outlinewidth": 0,
              "ticks": ""
             }
            },
            "type": "scatterternary"
           }
          ],
          "surface": [
           {
            "colorbar": {
             "outlinewidth": 0,
             "ticks": ""
            },
            "colorscale": [
             [
              0,
              "#0d0887"
             ],
             [
              0.1111111111111111,
              "#46039f"
             ],
             [
              0.2222222222222222,
              "#7201a8"
             ],
             [
              0.3333333333333333,
              "#9c179e"
             ],
             [
              0.4444444444444444,
              "#bd3786"
             ],
             [
              0.5555555555555556,
              "#d8576b"
             ],
             [
              0.6666666666666666,
              "#ed7953"
             ],
             [
              0.7777777777777778,
              "#fb9f3a"
             ],
             [
              0.8888888888888888,
              "#fdca26"
             ],
             [
              1,
              "#f0f921"
             ]
            ],
            "type": "surface"
           }
          ],
          "table": [
           {
            "cells": {
             "fill": {
              "color": "#EBF0F8"
             },
             "line": {
              "color": "white"
             }
            },
            "header": {
             "fill": {
              "color": "#C8D4E3"
             },
             "line": {
              "color": "white"
             }
            },
            "type": "table"
           }
          ]
         },
         "layout": {
          "annotationdefaults": {
           "arrowcolor": "#2a3f5f",
           "arrowhead": 0,
           "arrowwidth": 1
          },
          "autotypenumbers": "strict",
          "coloraxis": {
           "colorbar": {
            "outlinewidth": 0,
            "ticks": ""
           }
          },
          "colorscale": {
           "diverging": [
            [
             0,
             "#8e0152"
            ],
            [
             0.1,
             "#c51b7d"
            ],
            [
             0.2,
             "#de77ae"
            ],
            [
             0.3,
             "#f1b6da"
            ],
            [
             0.4,
             "#fde0ef"
            ],
            [
             0.5,
             "#f7f7f7"
            ],
            [
             0.6,
             "#e6f5d0"
            ],
            [
             0.7,
             "#b8e186"
            ],
            [
             0.8,
             "#7fbc41"
            ],
            [
             0.9,
             "#4d9221"
            ],
            [
             1,
             "#276419"
            ]
           ],
           "sequential": [
            [
             0,
             "#0d0887"
            ],
            [
             0.1111111111111111,
             "#46039f"
            ],
            [
             0.2222222222222222,
             "#7201a8"
            ],
            [
             0.3333333333333333,
             "#9c179e"
            ],
            [
             0.4444444444444444,
             "#bd3786"
            ],
            [
             0.5555555555555556,
             "#d8576b"
            ],
            [
             0.6666666666666666,
             "#ed7953"
            ],
            [
             0.7777777777777778,
             "#fb9f3a"
            ],
            [
             0.8888888888888888,
             "#fdca26"
            ],
            [
             1,
             "#f0f921"
            ]
           ],
           "sequentialminus": [
            [
             0,
             "#0d0887"
            ],
            [
             0.1111111111111111,
             "#46039f"
            ],
            [
             0.2222222222222222,
             "#7201a8"
            ],
            [
             0.3333333333333333,
             "#9c179e"
            ],
            [
             0.4444444444444444,
             "#bd3786"
            ],
            [
             0.5555555555555556,
             "#d8576b"
            ],
            [
             0.6666666666666666,
             "#ed7953"
            ],
            [
             0.7777777777777778,
             "#fb9f3a"
            ],
            [
             0.8888888888888888,
             "#fdca26"
            ],
            [
             1,
             "#f0f921"
            ]
           ]
          },
          "colorway": [
           "#636efa",
           "#EF553B",
           "#00cc96",
           "#ab63fa",
           "#FFA15A",
           "#19d3f3",
           "#FF6692",
           "#B6E880",
           "#FF97FF",
           "#FECB52"
          ],
          "font": {
           "color": "#2a3f5f"
          },
          "geo": {
           "bgcolor": "white",
           "lakecolor": "white",
           "landcolor": "#E5ECF6",
           "showlakes": true,
           "showland": true,
           "subunitcolor": "white"
          },
          "hoverlabel": {
           "align": "left"
          },
          "hovermode": "closest",
          "mapbox": {
           "style": "light"
          },
          "paper_bgcolor": "white",
          "plot_bgcolor": "#E5ECF6",
          "polar": {
           "angularaxis": {
            "gridcolor": "white",
            "linecolor": "white",
            "ticks": ""
           },
           "bgcolor": "#E5ECF6",
           "radialaxis": {
            "gridcolor": "white",
            "linecolor": "white",
            "ticks": ""
           }
          },
          "scene": {
           "xaxis": {
            "backgroundcolor": "#E5ECF6",
            "gridcolor": "white",
            "gridwidth": 2,
            "linecolor": "white",
            "showbackground": true,
            "ticks": "",
            "zerolinecolor": "white"
           },
           "yaxis": {
            "backgroundcolor": "#E5ECF6",
            "gridcolor": "white",
            "gridwidth": 2,
            "linecolor": "white",
            "showbackground": true,
            "ticks": "",
            "zerolinecolor": "white"
           },
           "zaxis": {
            "backgroundcolor": "#E5ECF6",
            "gridcolor": "white",
            "gridwidth": 2,
            "linecolor": "white",
            "showbackground": true,
            "ticks": "",
            "zerolinecolor": "white"
           }
          },
          "shapedefaults": {
           "line": {
            "color": "#2a3f5f"
           }
          },
          "ternary": {
           "aaxis": {
            "gridcolor": "white",
            "linecolor": "white",
            "ticks": ""
           },
           "baxis": {
            "gridcolor": "white",
            "linecolor": "white",
            "ticks": ""
           },
           "bgcolor": "#E5ECF6",
           "caxis": {
            "gridcolor": "white",
            "linecolor": "white",
            "ticks": ""
           }
          },
          "title": {
           "x": 0.05
          },
          "xaxis": {
           "automargin": true,
           "gridcolor": "white",
           "linecolor": "white",
           "ticks": "",
           "title": {
            "standoff": 15
           },
           "zerolinecolor": "white",
           "zerolinewidth": 2
          },
          "yaxis": {
           "automargin": true,
           "gridcolor": "white",
           "linecolor": "white",
           "ticks": "",
           "title": {
            "standoff": 15
           },
           "zerolinecolor": "white",
           "zerolinewidth": 2
          }
         }
        },
        "xaxis": {
         "anchor": "y",
         "domain": [
          0,
          1
         ]
        },
        "yaxis": {
         "anchor": "x",
         "domain": [
          0,
          1
         ],
         "title": {
          "text": "Dengue_Deaths"
         }
        }
       }
      }
     },
     "metadata": {},
     "output_type": "display_data"
    }
   ],
   "source": [
    "#checking for outliers for dengue deaths\n",
    "fig = px.box(cases_df, y=\"Dengue_Deaths\")\n",
    "fig.show()"
   ]
  },
  {
   "attachments": {},
   "cell_type": "markdown",
   "metadata": {},
   "source": [
    "### Years Coverage in Dengue Dataset"
   ]
  },
  {
   "cell_type": "code",
   "execution_count": 9,
   "metadata": {},
   "outputs": [
    {
     "name": "stdout",
     "output_type": "stream",
     "text": [
      "[2016 2017 2018 2019 2020]\n",
      "Total no. of years: 5\n"
     ]
    }
   ],
   "source": [
    "print(cases_df['Year'].unique())\n",
    "print('Total no. of years:', cases_df['Year'].nunique())"
   ]
  },
  {
   "attachments": {},
   "cell_type": "markdown",
   "metadata": {},
   "source": [
    "### Region Coverage in Dengue Dataset"
   ]
  },
  {
   "cell_type": "code",
   "execution_count": 10,
   "metadata": {},
   "outputs": [
    {
     "name": "stdout",
     "output_type": "stream",
     "text": [
      "['Region I' 'Region II' 'Region III' 'Region IV-A' 'Region IV-B'\n",
      " 'Region V' 'Region VI' 'Region VII' 'Region VIII' 'Region IX' 'Region X'\n",
      " 'Region XI' 'Region XII' 'Region XIII' 'NCR' 'CAR' 'BARMM']\n",
      "Total no. of regions: 17\n"
     ]
    }
   ],
   "source": [
    "print(cases_df['Region'].unique())\n",
    "print('Total no. of regions:', cases_df['Region'].nunique())"
   ]
  },
  {
   "attachments": {},
   "cell_type": "markdown",
   "metadata": {},
   "source": [
    "### Total Number of Cases from 2016-2020"
   ]
  },
  {
   "cell_type": "code",
   "execution_count": 11,
   "metadata": {},
   "outputs": [
    {
     "name": "stdout",
     "output_type": "stream",
     "text": [
      "Total number of dengue cases in the Philippines (2016-2020):  1147425\n"
     ]
    }
   ],
   "source": [
    "total_cases = cases_df['Dengue_Cases'].sum()\n",
    "print(\"Total number of dengue cases in the Philippines (2016-2020): \",total_cases)"
   ]
  },
  {
   "attachments": {},
   "cell_type": "markdown",
   "metadata": {},
   "source": [
    "#### Total Number of Cases Per Year"
   ]
  },
  {
   "cell_type": "code",
   "execution_count": 12,
   "metadata": {},
   "outputs": [
    {
     "name": "stdout",
     "output_type": "stream",
     "text": [
      "   Year  No. of Cases\n",
      "0  2016        209544\n",
      "1  2017        154155\n",
      "2  2018        250783\n",
      "3  2019        441902\n",
      "4  2020         91041\n"
     ]
    }
   ],
   "source": [
    "cases_year_df = cases_df.groupby('Year', as_index=False).agg({'Dengue_Cases':'sum'})\n",
    "cases_year_df.rename(columns={'Dengue_Cases':'No. of Cases'}, inplace=True)\n",
    "print(cases_year_df)"
   ]
  },
  {
   "attachments": {},
   "cell_type": "markdown",
   "metadata": {},
   "source": [
    "#### Total Number of Cases Per Region"
   ]
  },
  {
   "cell_type": "code",
   "execution_count": 13,
   "metadata": {},
   "outputs": [
    {
     "name": "stdout",
     "output_type": "stream",
     "text": [
      "         Region  No. of Cases\n",
      "0         BARMM         11537\n",
      "1           CAR         30582\n",
      "2           NCR        115966\n",
      "3      Region I         59066\n",
      "4     Region II         45141\n",
      "5    Region III        131064\n",
      "6   Region IV-A        163029\n",
      "7   Region IV-B         30849\n",
      "8     Region IX         47781\n",
      "9      Region V         22167\n",
      "10    Region VI        117523\n",
      "11   Region VII        110683\n",
      "12  Region VIII         51983\n",
      "13     Region X         82437\n",
      "14    Region XI         32522\n",
      "15   Region XII         59802\n",
      "16  Region XIII         35293\n"
     ]
    }
   ],
   "source": [
    "cases_region_df = cases_df.groupby('Region', as_index=False).agg({'Dengue_Cases':'sum'})\n",
    "cases_region_df.rename(columns={'Dengue_Cases':'No. of Cases'}, inplace=True)\n",
    "print(cases_region_df)"
   ]
  },
  {
   "attachments": {},
   "cell_type": "markdown",
   "metadata": {},
   "source": [
    "### Total Number of Deaths"
   ]
  },
  {
   "cell_type": "code",
   "execution_count": 14,
   "metadata": {},
   "outputs": [
    {
     "name": "stdout",
     "output_type": "stream",
     "text": [
      "Total number of dengue deaths in the Philippines:  16844\n"
     ]
    }
   ],
   "source": [
    "total_deaths = cases_df['Dengue_Deaths'].sum()\n",
    "print(\"Total number of dengue deaths in the Philippines: \",total_deaths)"
   ]
  },
  {
   "attachments": {},
   "cell_type": "markdown",
   "metadata": {},
   "source": [
    "#### Total Number of Deaths Per Year"
   ]
  },
  {
   "cell_type": "code",
   "execution_count": 15,
   "metadata": {},
   "outputs": [
    {
     "name": "stdout",
     "output_type": "stream",
     "text": [
      "   Year  No. of Deaths\n",
      "0  2016           8127\n",
      "1  2017           4563\n",
      "2  2018           1226\n",
      "3  2019           1733\n",
      "4  2020           1195\n"
     ]
    }
   ],
   "source": [
    "deaths_year_df = cases_df.groupby('Year', as_index=False).agg({'Dengue_Deaths':'sum'})\n",
    "deaths_year_df.rename(columns={'Dengue_Deaths':'No. of Deaths'}, inplace=True)\n",
    "print(deaths_year_df)"
   ]
  },
  {
   "attachments": {},
   "cell_type": "markdown",
   "metadata": {},
   "source": [
    "#### Total Number of Deaths Per Region"
   ]
  },
  {
   "cell_type": "code",
   "execution_count": 16,
   "metadata": {},
   "outputs": [
    {
     "name": "stdout",
     "output_type": "stream",
     "text": [
      "         Region  No. of Deaths\n",
      "0         BARMM            332\n",
      "1           CAR           1008\n",
      "2           NCR           4008\n",
      "3      Region I            157\n",
      "4     Region II            193\n",
      "5    Region III            482\n",
      "6   Region IV-A            652\n",
      "7   Region IV-B            130\n",
      "8     Region IX            532\n",
      "9      Region V            185\n",
      "10    Region VI           1825\n",
      "11   Region VII           1760\n",
      "12  Region VIII            585\n",
      "13     Region X            848\n",
      "14    Region XI            385\n",
      "15   Region XII           2796\n",
      "16  Region XIII            966\n"
     ]
    }
   ],
   "source": [
    "deaths_region_df = cases_df.groupby('Region', as_index=False).agg({'Dengue_Deaths':'sum'})\n",
    "deaths_region_df.rename(columns={'Dengue_Deaths':'No. of Deaths'}, inplace=True)\n",
    "print(deaths_region_df)"
   ]
  },
  {
   "attachments": {},
   "cell_type": "markdown",
   "metadata": {},
   "source": [
    "### Intial Observations\n",
    "- There are a total of x rows and x columns\n",
    "- There are, on average, x number of dengue cases in the Philippines\n",
    "- There are, on average, x number of dengue deaths in the Philippines"
   ]
  },
  {
   "attachments": {},
   "cell_type": "markdown",
   "metadata": {},
   "source": [
    "## Cleaning the Dataset\n",
    "\n",
    "-- [Return to Table of Contents](#DATA100-FINAL-PROJECT) --\n",
    "\n",
    "*Explain why the data was preprocessed that way. If you removed data, explain why removing the data was necessary*"
   ]
  },
  {
   "attachments": {},
   "cell_type": "markdown",
   "metadata": {},
   "source": [
    "Before we can begin exploring the data, we must first clean the dataset. This is to prevent inconsistencies that may cause problems or errors during analysis."
   ]
  },
  {
   "cell_type": "markdown",
   "metadata": {},
   "source": [
    "We then check if there are any duplicated data in the dataset. We do this by calling the [duplicated](https://pandas.pydata.org/pandas-docs/stable/reference/api/pandas.DataFrame.duplicated.html) function. The function checks and returns the duplicated values."
   ]
  },
  {
   "cell_type": "code",
   "execution_count": 17,
   "metadata": {},
   "outputs": [
    {
     "name": "stdout",
     "output_type": "stream",
     "text": [
      "Number of duplicates: 0\n"
     ]
    }
   ],
   "source": [
    "duplicated = cases_df[cases_df.duplicated()]\n",
    "dupes = str(duplicated.shape)\n",
    "\n",
    "print(\"Number of duplicates: \"  + dupes[1 : (dupes.find(','))])"
   ]
  },
  {
   "attachments": {},
   "cell_type": "markdown",
   "metadata": {},
   "source": [
    "As displayed above there are **``0 duplicates``** in the dataset. If there are duplicates, these can be simply removed by calling the [drop_duplicates](https://pandas.pydata.org/docs/reference/api/pandas.DataFrame.drop_duplicates.html) function."
   ]
  },
  {
   "attachments": {},
   "cell_type": "markdown",
   "metadata": {},
   "source": [
    "Next, we check if each columns has **NaN or Null** values."
   ]
  },
  {
   "cell_type": "code",
   "execution_count": 18,
   "metadata": {},
   "outputs": [
    {
     "data": {
      "text/plain": [
       "Month            False\n",
       "Year             False\n",
       "Region           False\n",
       "Dengue_Cases     False\n",
       "Dengue_Deaths    False\n",
       "dtype: bool"
      ]
     },
     "execution_count": 18,
     "metadata": {},
     "output_type": "execute_result"
    }
   ],
   "source": [
    "cases_df.isnull().any()"
   ]
  },
  {
   "attachments": {},
   "cell_type": "markdown",
   "metadata": {},
   "source": [
    "From the results above, it can be seen that there are **no NaN or Null Values** in the dataset."
   ]
  },
  {
   "attachments": {},
   "cell_type": "markdown",
   "metadata": {},
   "source": [
    "### to edit\n",
    "Since there are no null values, the only columns needed to be cleaned are:\n",
    "- `Region`"
   ]
  },
  {
   "cell_type": "code",
   "execution_count": 19,
   "metadata": {},
   "outputs": [],
   "source": [
    "old_labels = np.sort(cases_df['Region'].unique())"
   ]
  },
  {
   "attachments": {},
   "cell_type": "markdown",
   "metadata": {},
   "source": [
    "some region names are too long, so we removed the word \"region\" in some names. the next cell shows the new region names"
   ]
  },
  {
   "cell_type": "code",
   "execution_count": 20,
   "metadata": {},
   "outputs": [
    {
     "name": "stdout",
     "output_type": "stream",
     "text": [
      "BARMM                          BARMM\n",
      "CAR                            CAR\n",
      "NCR                            NCR\n",
      "Region I                       I\n",
      "Region II                      II\n",
      "Region III                     III\n",
      "Region IV-A                    IV-A\n",
      "Region IV-B                    IV-B\n",
      "Region IX                      IX\n",
      "Region V                       V\n",
      "Region VI                      VI\n",
      "Region VII                     VII\n",
      "Region VIII                    VIII\n",
      "Region X                       X\n",
      "Region XI                      XI\n",
      "Region XII                     XII\n",
      "Region XIII                    XIII\n"
     ]
    }
   ],
   "source": [
    "new_labels = ['BARMM',\n",
    "              'CAR',\n",
    "              'NCR',\n",
    "              'I',\n",
    "              'II',\n",
    "              'III',\n",
    "              'IV-A',\n",
    "              'IV-B',\n",
    "              'IX',\n",
    "              'V',\n",
    "              'VI',\n",
    "              'VII',\n",
    "              'VIII',\n",
    "              'X',\n",
    "              'XI',\n",
    "              'XII',\n",
    "              'XIII']\n",
    "\n",
    "compare = \"\\n\".join(\"{:30} {}\".format(x, y) for x, y in zip(old_labels, new_labels))\n",
    "print(compare)"
   ]
  },
  {
   "cell_type": "code",
   "execution_count": 21,
   "metadata": {},
   "outputs": [
    {
     "data": {
      "text/plain": [
       "I        60\n",
       "IX       60\n",
       "CAR      60\n",
       "NCR      60\n",
       "XIII     60\n",
       "XII      60\n",
       "XI       60\n",
       "X        60\n",
       "VIII     60\n",
       "II       60\n",
       "VII      60\n",
       "VI       60\n",
       "V        60\n",
       "IV-B     60\n",
       "IV-A     60\n",
       "III      60\n",
       "BARMM    60\n",
       "Name: Region, dtype: int64"
      ]
     },
     "execution_count": 21,
     "metadata": {},
     "output_type": "execute_result"
    }
   ],
   "source": [
    "# to replace old labels with new labels\n",
    "cases_df['Region'] = cases_df['Region'].replace(old_labels, new_labels)\n",
    "cases_df['Region'].value_counts()"
   ]
  },
  {
   "cell_type": "markdown",
   "metadata": {},
   "source": [
    "Now that we have cleaned all columns that will be used for this notebook. We can now begin the [Exploratory Data Analysis](#exploratory-data-analysis)."
   ]
  },
  {
   "attachments": {},
   "cell_type": "markdown",
   "metadata": {},
   "source": [
    "## Exploratory Data Analysis\n",
    "\n",
    "-- [Return to Table of Contents](#DATA100-FINAL-PROJECT) --\n",
    "\n",
    "*What kind of initial features you are dealing with? Discuss patterns or findings.*\n",
    "\n",
    "*include at least 5 EDA questions to form research question*"
   ]
  },
  {
   "attachments": {},
   "cell_type": "markdown",
   "metadata": {},
   "source": [
    "### Question 1: How have the number of Dengue cases changed over 2016 to 2020"
   ]
  },
  {
   "cell_type": "code",
   "execution_count": 22,
   "metadata": {},
   "outputs": [
    {
     "data": {
      "image/png": "[encoded data removed]",
      "text/plain": [
       "<Figure size 1008x432 with 1 Axes>"
      ]
     },
     "metadata": {
      "needs_background": "light"
     },
     "output_type": "display_data"
    }
   ],
   "source": [
    "index = 0\n",
    "date = []\n",
    "years = [i for i in cases_df.Year]\n",
    "\n",
    "for i in cases_df.Month:\n",
    "    date.append(str(years[index])+'-'+str(i))\n",
    "    index += 1\n",
    "\n",
    "plt.figure(figsize=(14,6))\n",
    "sns.lineplot(x=date,y=[i for i in cases_df['Dengue_Cases']],color='blue')\n",
    "plt.title(label='Dengue cases from 2016-2020')\n",
    "plt.xlabel(xlabel='Month + Year')\n",
    "plt.ylabel(ylabel='Number of Cases')\n",
    "plt.xticks(rotation=90)\n",
    "plt.show()"
   ]
  },
  {
   "attachments": {},
   "cell_type": "markdown",
   "metadata": {},
   "source": [
    "### Question 1 Results\n",
    "\n",
    "*explain what you learned from the results*"
   ]
  },
  {
   "attachments": {},
   "cell_type": "markdown",
   "metadata": {},
   "source": [
    "### Question 2: Are the any significant differences between 2016 to 2020"
   ]
  },
  {
   "cell_type": "code",
   "execution_count": 23,
   "metadata": {},
   "outputs": [],
   "source": [
    "cleanDF = cases_df\n",
    "regionCases2016 = []\n",
    "regionCases2017 = []\n",
    "regionCases2018 = []\n",
    "regionCases2019 = []\n",
    "regionCases2020 = []\n",
    "\n",
    "#separate the data per year\n",
    "tempDF2016 = cleanDF.query(\"Year == 2016\")\n",
    "tempDF2017 = cleanDF.query(\"Year == 2017\")\n",
    "tempDF2018 = cleanDF.query(\"Year == 2018\")\n",
    "tempDF2019 = cleanDF.query(\"Year == 2019\")\n",
    "tempDF2020 = cleanDF.query(\"Year == 2020\")"
   ]
  },
  {
   "cell_type": "code",
   "execution_count": 24,
   "metadata": {},
   "outputs": [],
   "source": [
    "#get all cases per region on 2016\n",
    "for i in np.unique(tempDF2016['Region']):\n",
    "    tempDF2 = tempDF2016.query(\"Region == '{}'\".format(i))\n",
    "    regionCases2016.append([sum([i for i in tempDF2['Dengue_Cases']]),i])\n",
    "\n",
    "#get all cases per region on 2017\n",
    "for i in np.unique(tempDF2017['Region']):\n",
    "    tempDF2 = tempDF2017.query(\"Region == '{}'\".format(i))\n",
    "    regionCases2017.append([sum([i for i in tempDF2['Dengue_Cases']]),i])\n",
    "\n",
    "#get all cases per region on 2018\n",
    "for i in np.unique(tempDF2018['Region']):\n",
    "    tempDF2 = tempDF2018.query(\"Region == '{}'\".format(i))\n",
    "    regionCases2018.append([sum([i for i in tempDF2['Dengue_Cases']]),i])\n",
    "\n",
    "#get all cases per region on 2019\n",
    "for i in np.unique(tempDF2019['Region']):\n",
    "    tempDF2 = tempDF2019.query(\"Region == '{}'\".format(i))\n",
    "    regionCases2019.append([sum([i for i in tempDF2['Dengue_Cases']]),i])\n",
    "\n",
    "#get all cases per region on 2020\n",
    "for i in np.unique(tempDF2020['Region']):\n",
    "    tempDF2 = tempDF2020.query(\"Region == '{}'\".format(i))\n",
    "    regionCases2020.append([sum([i for i in tempDF2['Dengue_Cases']]),i])"
   ]
  },
  {
   "cell_type": "code",
   "execution_count": 25,
   "metadata": {},
   "outputs": [
    {
     "name": "stdout",
     "output_type": "stream",
     "text": [
      "Mean Cases per Year\n",
      "2016 -  12326.117647058823\n",
      "2017 -  9067.941176470587\n",
      "2018 -  14751.941176470587\n",
      "2019 -  25994.235294117647\n",
      "2020 -  5355.35294117647\n",
      "\n",
      "Variance per Year\n",
      "2016 -  75601384.6102941\n",
      "2017 -  67824475.80882353\n",
      "2018 -  92672648.93382353\n",
      "2019 -  368154444.9411765\n",
      "2020 -  17372712.49264706\n"
     ]
    }
   ],
   "source": [
    "mean2016 = []\n",
    "mean2017 = []\n",
    "mean2018 = []\n",
    "mean2019 = []\n",
    "mean2020 = []\n",
    "\n",
    "#Gather all number of cases into a single list\n",
    "for i in range(len(new_labels)):\n",
    "  mean2016.append(regionCases2016[i][0])\n",
    "  mean2017.append(regionCases2017[i][0])\n",
    "  mean2018.append(regionCases2018[i][0])\n",
    "  mean2019.append(regionCases2019[i][0])\n",
    "  mean2020.append(regionCases2020[i][0])\n",
    "\n",
    "#mean and variance cases per year\n",
    "print(\"Mean Cases per Year\")\n",
    "print(\"2016 - \", sum(mean2016) / len(regionCases2016))\n",
    "print(\"2017 - \", sum(mean2017) / len(regionCases2017))\n",
    "print(\"2018 - \", sum(mean2018) / len(regionCases2018))\n",
    "print(\"2019 - \", sum(mean2019) / len(regionCases2019))\n",
    "print(\"2020 - \", sum(mean2020) / len(regionCases2020))\n",
    "\n",
    "print()\n",
    "\n",
    "print(\"Variance per Year\")\n",
    "print(\"2016 - \", statistics.variance(mean2016))\n",
    "print(\"2017 - \", statistics.variance(mean2017))\n",
    "print(\"2018 - \", statistics.variance(mean2018))\n",
    "print(\"2019 - \", statistics.variance(mean2019))\n",
    "print(\"2020 - \", statistics.variance(mean2020))"
   ]
  },
  {
   "cell_type": "code",
   "execution_count": 26,
   "metadata": {},
   "outputs": [
    {
     "data": {
      "text/plain": [
       "F_onewayResult(statistic=8.376232153844162, pvalue=1.072682940880419e-05)"
      ]
     },
     "execution_count": 26,
     "metadata": {},
     "output_type": "execute_result"
    }
   ],
   "source": [
    "#one-way ANOVA\n",
    "f_oneway(mean2016, mean2017, mean2018, mean2019, mean2020)"
   ]
  },
  {
   "attachments": {},
   "cell_type": "markdown",
   "metadata": {},
   "source": [
    "### Question 2 Results\n",
    "\n",
    "*explain what you learned from the results*"
   ]
  },
  {
   "attachments": {},
   "cell_type": "markdown",
   "metadata": {},
   "source": [
    "# Feature Extraction\n",
    "\n",
    "-- [Return to Table of Contents](#DATA100-FINAL-PROJECT) --\n",
    "\n",
    "After much deliberation and preparation of the given dataset, it is deemed that no additional features are necessary for further analysis, nor would it be advised to extract new features. With that said, we will proceed with the Data Visualization and Analysis portion as intended."
   ]
  },
  {
   "attachments": {},
   "cell_type": "markdown",
   "metadata": {},
   "source": [
    "# Data Visualization & Analysis\n",
    "\n",
    "-- [Return to Table of Contents](#DATA100-FINAL-PROJECT) --\n",
    "\n",
    "*Explain what the chart shows and what insights can be seen from it*"
   ]
  },
  {
   "attachments": {},
   "cell_type": "markdown",
   "metadata": {},
   "source": [
    "# Conclusion\n",
    "\n",
    "-- [Return to Table of Contents](#DATA100-FINAL-PROJECT) --\n",
    "\n",
    "*Summary of findings and your recommendations*"
   ]
  },
  {
   "attachments": {},
   "cell_type": "markdown",
   "metadata": {},
   "source": [
    "# References\n",
    "\n",
    "-- [Return to Table of Contents](#DATA100-FINAL-PROJECT) --\n",
    "\n",
    "*You are encouraged to look at existing solutions online and learn from them (please cite)*"
   ]
  }
 ],
 "metadata": {
  "colab": {
   "name": "1 - Jupyter Notebook and Python.ipynb",
   "provenance": []
  },
  "kernelspec": {
   "display_name": "base",
   "language": "python",
   "name": "python3"
  },
  "language_info": {
   "codemirror_mode": {
    "name": "ipython",
    "version": 3
   },
   "file_extension": ".py",
   "mimetype": "text/x-python",
   "name": "python",
   "nbconvert_exporter": "python",
   "pygments_lexer": "ipython3",
   "version": "3.9.12"
  },
  "vscode": {
   "interpreter": {
    "hash": "35ed6aa12a0d6ba18c9d471f8c51327fdbfc13293fb971f148297e9497ae5ae2"
   }
  }
 },
 "nbformat": 4,
 "nbformat_minor": 1
}
